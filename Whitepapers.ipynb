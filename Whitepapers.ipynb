{
 "cells": [
  {
   "cell_type": "markdown",
   "id": "45559985-9813-492d-b47b-7ea193efe078",
   "metadata": {},
   "source": [
    "<img src=\"img/Recurso-26.png\" width=\"200\"/>\n",
    "\n",
    "# Whitepapers: Procesamiento de Datos en Python\n",
    "![logo](img/python_logo.png) <br>\n",
    "**Nombre:** Kevin Jaramillo <br>\n",
    "*Fecha:* 1/10/2025 <br>\n",
    "**Github:** "
   ]
  },
  {
   "cell_type": "markdown",
   "id": "54538c48-1702-46e6-9fed-41a3d7279f4f",
   "metadata": {},
   "source": [
    "## Introducción\n",
    "\n",
    "Para desarrollar un proyecto de Inteligencia Artificial es fundamental conocer tanto la teoría como la práctica sobre el manejo de datos. Antes de trabajar con código, es necesario investigar sobre el tema y entender qué se ha hecho antes. Los artículos científicos son una buena referencia, porque pasan por un proceso de revisión por expertos que garantiza la calidad de la información.\n",
    "\n",
    "En esta actividad, exploramos cómo Python y sus librerías, especialmente **NumPy** y **Pandas**, se usan para procesar datos de manera eficiente.\n"
   ]
  },
  {
   "cell_type": "markdown",
   "id": "9fbbf3f8-c6ad-42f1-a04f-348cd041cba4",
   "metadata": {},
   "source": [
    "## Objetivos\n",
    "\n",
    "- Investigar el estado actual del conocimiento sobre procesamiento de datos en proyectos de Inteligencia Artificial.\n",
    "- Analizar cómo las librerías **NumPy** y **Pandas** ayudan a procesar datos de manera eficiente.\n",
    "- Presentar un ejemplo práctico en Python que muestre las capacidades básicas de estas librerías."
   ]
  },
  {
   "cell_type": "markdown",
   "id": "06ef2add-2d2b-46c8-b112-b02eb601c837",
   "metadata": {},
   "source": [
    "# Artículo 1: NumPy\n",
    "\n",
    "**Referencia:**  \n",
    "Van Der Walt, S., Colbert, S. C., Varoquaux, G. (2011). *The NumPy array: A structure for efficient numerical computation.* Computing in Science and Engineering, 13(2), 22-30.  \n",
    "[Link al artículo](https://www.researchgate.net/publication/224223550_The_NumPy_Array_A_Structure_for_Efficient_Numerical_Computation)\n",
    "\n",
    "**Resumen:**  \n",
    "NumPy es una librería de Python que permite trabajar con **arrays multidimensionales** (`ndarray`) y hacer operaciones matemáticas de forma rápida. Esto lo hace mucho más eficiente que usar listas de Python cuando se trabaja con cálculos grandes o matrices.  \n",
    "\n",
    "**Puntos importantes:**  \n",
    "- **Broadcasting:** permite realizar operaciones entre arrays de diferentes tamaños sin tener que crear copias ni bucles.  \n",
    "- **Memoria mapeada:** permite trabajar con archivos grandes sin cargar todo en memoria, mejorando el rendimiento.  \n",
    "\n",
    "**Ejemplo sencillo:**"
   ]
  },
  {
   "cell_type": "code",
   "execution_count": 3,
   "id": "a9299c31-9a18-403d-98bf-630a57b5878f",
   "metadata": {},
   "outputs": [
    {
     "name": "stdout",
     "output_type": "stream",
     "text": [
      "Array original:\n",
      " [[1 2 3]\n",
      " [4 5 6]\n",
      " [7 8 9]]\n",
      "\n",
      "Array después de sumar 10:\n",
      " [[11 12 13]\n",
      " [14 15 16]\n",
      " [17 18 19]]\n"
     ]
    }
   ],
   "source": [
    "import numpy as np\n",
    "\n",
    "# Crear un array de 3x3\n",
    "a = np.array([[1, 2, 3],\n",
    "              [4, 5, 6],\n",
    "              [7, 8, 9]])\n",
    "\n",
    "# Sumar 10 a cada elemento usando broadcasting\n",
    "b = a + 10\n",
    "\n",
    "print(\"Array original:\\n\", a)\n",
    "print(\"\\nArray después de sumar 10:\\n\", b)"
   ]
  },
  {
   "cell_type": "markdown",
   "id": "0d3fcafd-3702-498a-b957-1decb7b79f4a",
   "metadata": {},
   "source": [
    "**Explicación rápida:**  \n",
    "Aquí **b** suma 10 a cada elemento de **a** sin usar bucles. Este tipo de operaciones hace que NumPy sea mucho más rápido que Python puro para cálculos numéricos."
   ]
  },
  {
   "cell_type": "markdown",
   "id": "e5b48601-6c03-49c1-b035-5d979e1e7e9d",
   "metadata": {},
   "source": [
    "# Artículo 2: Pandas\n",
    "\n",
    "**Referencia:**  \n",
    "McKinney, W. (2010). *Data Structures for Statistical Computing in Python.* Proceedings of the 9th Python in Science Conference, 56-61.  \n",
    "[Link al artículo](https://www.researchgate.net/publication/265001241_Data_Structures_for_Statistical_Computing_in_Python)\n",
    "\n",
    "**Resumen:**  \n",
    "Pandas permite manejar **datos tabulares**, similares a Excel, usando **DataFrames**. Esto facilita analizar, limpiar y transformar datos de manera rápida. A diferencia de R, Pandas se integra fácilmente con Python y otras librerías, haciendo más sencillo combinar análisis y programación avanzada.\n",
    "\n",
    "**Ejemplo sencillo:**"
   ]
  },
  {
   "cell_type": "code",
   "execution_count": 4,
   "id": "8c874e88-922a-484c-b75e-dfdd1c4052e0",
   "metadata": {},
   "outputs": [
    {
     "name": "stdout",
     "output_type": "stream",
     "text": [
      "DataFrame completo:\n",
      "    Nombre  Edad     Ciudad\n",
      "0     Ana    23      Quito\n",
      "1    Luis    35  Guayaquil\n",
      "2  Carlos    19     Cuenca\n",
      "\n",
      "Personas mayores de 25 años:\n",
      "   Nombre  Edad     Ciudad\n",
      "1   Luis    35  Guayaquil\n"
     ]
    }
   ],
   "source": [
    "import pandas as pd\n",
    "\n",
    "# Crear un DataFrame simple\n",
    "datos = {'Nombre': ['Ana', 'Luis', 'Carlos'],\n",
    "         'Edad': [23, 35, 19],\n",
    "         'Ciudad': ['Quito', 'Guayaquil', 'Cuenca']}\n",
    "\n",
    "df = pd.DataFrame(datos)\n",
    "\n",
    "# Mostrar el DataFrame completo\n",
    "print(\"DataFrame completo:\\n\", df)\n",
    "\n",
    "# Filtrar personas mayores de 25 años\n",
    "mayores_25 = df[df['Edad'] > 25]\n",
    "print(\"\\nPersonas mayores de 25 años:\\n\", mayores_25)"
   ]
  },
  {
   "cell_type": "markdown",
   "id": "abab9302-8675-41b5-be22-54a82453f910",
   "metadata": {},
   "source": [
    "**Explicación rápida:**  \n",
    "Pandas hace que trabajar con tablas y filtrar información sea muy fácil. Además, se puede combinar con NumPy para operaciones más complejas o cálculos numéricos sobre columnas específicas."
   ]
  },
  {
   "cell_type": "markdown",
   "id": "ef88c15e-cf07-42b5-ad49-09eebb36a29c",
   "metadata": {},
   "source": [
    "## Conclusión\n",
    "\n",
    "En general, **NumPy** y **Pandas** son herramientas muy importantes para trabajar con datos en Python, sobre todo cuando hacemos proyectos de Inteligencia Artificial o análisis de información. **NumPy** nos ayuda a manejar arrays multidimensionales y hacer operaciones matemáticas rápido, usando cosas como *broadcasting* y memoria mapeada. Por otro lado, **Pandas** nos facilita trabajar con tablas de datos, limpiar información, filtrar y analizar datos de forma sencilla con sus *DataFrames*.\n",
    "\n",
    "Usar estas librerías juntas hace que podamos procesar grandes cantidades de datos mucho más rápido que solo con las listas y estructuras normales de Python. Además, se pueden combinar fácilmente con otras herramientas de análisis y de inteligencia artificial. Aprender a usarlas bien nos ayuda a hacer proyectos de IA de forma más práctica, rápida y organizada, incluso cuando los datos son muy grandes o complejos."
   ]
  },
  {
   "cell_type": "code",
   "execution_count": null,
   "id": "21fb9447-39de-4902-b19b-78f79f4b4b09",
   "metadata": {},
   "outputs": [],
   "source": []
  }
 ],
 "metadata": {
  "kernelspec": {
   "display_name": "Python 3 (ipykernel)",
   "language": "python",
   "name": "python3"
  },
  "language_info": {
   "codemirror_mode": {
    "name": "ipython",
    "version": 3
   },
   "file_extension": ".py",
   "mimetype": "text/x-python",
   "name": "python",
   "nbconvert_exporter": "python",
   "pygments_lexer": "ipython3",
   "version": "3.13.5"
  }
 },
 "nbformat": 4,
 "nbformat_minor": 5
}
