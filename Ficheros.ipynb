{
 "cells": [
  {
   "cell_type": "markdown",
   "id": "d808025a-67b7-4343-81f9-aeb6c50822c0",
   "metadata": {},
   "source": [
    "<img src=\"img/Logo_itq.png\" width=\"200\"/>\n",
    "\n",
    "# EJERCICIOS\n",
    "<img src=\"img/python_logo.png\"/> <br>\n",
    "**Nombre:** Kevin Jaramillo<br>\n",
    "*Fecha:* 29/06/2025<br>\n",
    "<a href = \"https://github.com/Kevin06102023/matching_learning/blob/master/Funciones.ipynb\">Enlace del deber:</a>\n",
    "https://github.com/Kevin06102023/matching_learning/blob/master/Funciones.ipynb"
   ]
  },
  {
   "cell_type": "markdown",
   "id": "776b920f-8029-44a1-a55a-a916d1b57643",
   "metadata": {},
   "source": [
    "## Ejercicios"
   ]
  },
  {
   "cell_type": "markdown",
   "id": "17af94ac-6ce0-4190-9655-bb4057f4c642",
   "metadata": {},
   "source": [
    "1. Escribe una función que reciba una ruta de un fichero de texto y una cadena de caracteres a buscar y determine si la cadena aparece en el fichero.\n",
    "\n",
    "2. Escribe una función que reciba una lista, una ruta destino y un número n. La función debe crear un fichero en la ruta especificada. El contenido del fichero serán los primeros n elementos de la lista. La función debe controlar de manera apropiada los posibles valores de n que estén fuera de rango.\n",
    "\n",
    "3. Escribe una función que reciba una ruta de un fichero de texto devuelva un diccionario con la frecuencia de aparición de cada palabra. Ejemplo: un fichero que contenga la frase 'es mejor que venga que que no venga' devolverá el siguiente diccionario: {'es' : 1, 'mejor' : 1, 'que' : 3, 'venga' : 2, 'no' : 1}. Para dividir un string en palabras puedes hacer uso del método split."
   ]
  },
  {
   "cell_type": "code",
   "execution_count": 12,
   "id": "c962cfec-4dfd-46fd-8163-e75ad5840aee",
   "metadata": {},
   "outputs": [
    {
     "name": "stdout",
     "output_type": "stream",
     "text": [
      "True\n"
     ]
    }
   ],
   "source": [
    "#Ejercicio 1\n",
    "def buscar_cadena_en_fichero(ruta, cadena):\n",
    "    \"\"\"\n",
    "    Recibe una ruta y una cadena, devuelve True si la cadena aparece en el fichero, False si no.\n",
    "    \"\"\"\n",
    "    with open(ruta, 'r') as f:\n",
    "        for linea in f:\n",
    "            if cadena in linea:\n",
    "                return True\n",
    "    return False\n",
    " \n",
    "ruta = \"res/buscar.txt\"\n",
    "print(buscar_cadena_en_fichero(ruta, \"Hola\"))"
   ]
  },
  {
   "cell_type": "code",
   "execution_count": 10,
   "id": "cd28a974-f313-4aa6-bc22-a091fad9576c",
   "metadata": {},
   "outputs": [],
   "source": [
    "#Ejercicio2\n",
    "def crear_fichero_desde_lista(lista, ruta_destino, n):\n",
    "    \"\"\"\n",
    "    Crea un fichero en ruta_destino con los primeros n elementos de lista.\n",
    "    Controla n fuera de rango.\n",
    "    \"\"\"\n",
    "    if n < 0:\n",
    "        n = 0\n",
    "    elif n > len(lista):\n",
    "        n = len(lista)\n",
    "    \n",
    "    with open(ruta_destino, 'w') as f:\n",
    "        for i in range(n):\n",
    "            f.write(str(lista[i]) + '\\n')\n",
    "\n",
    "frutas = [\"manzana\", \"banana\", \"pera\", \"mango\", \"naranja\"]\n",
    "ruta = \"res/frutas.txt\"\n",
    "crear_fichero_desde_lista(frutas, ruta, 3)"
   ]
  },
  {
   "cell_type": "code",
   "execution_count": 11,
   "id": "928c5b3e-694a-44a0-9b01-e0366dc57d65",
   "metadata": {},
   "outputs": [
    {
     "name": "stdout",
     "output_type": "stream",
     "text": [
      "{'es': 1, 'mejor': 1, 'que': 2, 'venga': 2, 'no': 1}\n"
     ]
    }
   ],
   "source": [
    "#Ejercicio 3\n",
    "def frecuencia_palabras_en_fichero(ruta):\n",
    "    \"\"\"\n",
    "    Lee un fichero y devuelve un diccionario con la frecuencia de cada palabra.\n",
    "    \"\"\"\n",
    "    frecuencias = {}\n",
    "    with open(ruta, 'r') as f:\n",
    "        for linea in f:\n",
    "            palabras = linea.split()\n",
    "            for palabra in palabras:\n",
    "                if palabra in frecuencias:\n",
    "                    frecuencias[palabra] += 1\n",
    "                else:\n",
    "                    frecuencias[palabra] = 1\n",
    "    return frecuencias\n",
    "    \n",
    "ruta = \"res/frecuencia.txt\"\n",
    "print(frecuencia_palabras_en_fichero(ruta))"
   ]
  },
  {
   "cell_type": "code",
   "execution_count": null,
   "id": "7bb36fe0-b5c8-4ead-b8a0-b36d31e86bad",
   "metadata": {},
   "outputs": [],
   "source": []
  }
 ],
 "metadata": {
  "kernelspec": {
   "display_name": "Python 3 (ipykernel)",
   "language": "python",
   "name": "python3"
  },
  "language_info": {
   "codemirror_mode": {
    "name": "ipython",
    "version": 3
   },
   "file_extension": ".py",
   "mimetype": "text/x-python",
   "name": "python",
   "nbconvert_exporter": "python",
   "pygments_lexer": "ipython3",
   "version": "3.13.5"
  }
 },
 "nbformat": 4,
 "nbformat_minor": 5
}
