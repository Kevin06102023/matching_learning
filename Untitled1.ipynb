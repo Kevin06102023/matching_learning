{
 "cells": [
  {
   "cell_type": "markdown",
   "id": "c8814a1d-188b-450b-bb8d-7e274a0992f5",
   "metadata": {},
   "source": [
    "<img src=\"img/Logo_itq.png\" width=\"200\"/>\n",
    "\n",
    "# EJERCICIOS\n",
    "<img src=\"img/python_logo.png\"/> <br>\n",
    "**Nombre:** Kevin Jaramillo<br>\n",
    "*Fecha:* 29/06/2025<br>\n",
    "<a href = \"https://github.com/Kevin06102023/matching_learning/blob/master/Untitled1.ipynb\">Enlace del deber</a>"
   ]
  },
  {
   "cell_type": "markdown",
   "id": "e4331dae-36ef-42b5-8371-ba0ad70fd9dd",
   "metadata": {},
   "source": [
    "1. Escribe un programa que calcule la suma de todos los elementos de una lista dada. La lista sólo puede contener elementos numéricos.\n",
    "   \n",
    "2. Dada una lista con elementos duplicados, escribir un programa que muestre una nueva lista con el mismo contenido que la primera pero sin elementos duplicados. Para este ejercicio, no puedes hacer uso de objetos de tipo 'Set'.\n",
    "\n",
    "3. Escribe un programa que construya un diccionario que contenga un número (entre 1 y n) de elementos de esta forma: (x, x*x). Ejemplo: para n = 5, el diccionario resultante sería {1: 1, 2: 4, 3: 9, 4: 16, 5: 25}\n",
    "\n",
    "4. Escribe un programa que, dada una lista de palabras, compruebe si alguna empieza por 'a' y tiene más de 9 caracteres. Si dicha palabra existe, el programa deberá terminar en el momento exacto de encontrarla. El programa también debe mostrar un mensaje apropiado por pantalla que indique el éxito o el fracaso de la búsqueda. En caso de éxito, también se mostrará por pantalla la palabra encontrada.\n",
    "\n",
    "5. Dada una lista L de números positivos, escribir un programa que muestre otra lista (ordenada) que contenga todo índice i que cumpla la siguiente condición: L[i] es múltiplo de 3. Por ejemplo, dada la lista L = [3,5,13,12,1,9] el programa mostrará la lista [0,3,5] dado que L[0], L[3] y L[5] son, respectivamente, 3, 12 y 9, que son los únicos múltiplos de 3 que hay en L.\n",
    "\n",
    "6. Dado un diccionario cuyos elementos son pares de tipo string y numérico (es decir, las claves son de tipo 'str' y los valores son de tipo 'int' o 'float'), escribe un programa que muestre por pantalla la clave cuyo valor asociado representa el valor númerico más alto de todo el diccionario. Por ejemplo, para el diccionario {'a': 4.3, 'b': 1, 'c': 7.8, 'd': -5} la respuesta sería 'c', dado que 7.8 es el valor más alto de los números 4.3, 1, 7.8 y -5.\n",
    "\n",
    "7. Dada la lista a = [2, 4, 6, 8] y la lista b = [7, 11, 15, 22], escribe un programa que itere las listas a y b y multiplique cada elemento de a que sea mayor que 5 por cada elemento de b que sea menor que 14. El programa debe mostrar los resultados por pantalla.\n",
    "\n",
    "8. Escribir un programa que pida un valor numérico X al usuario. Para ello podéis hacer uso de la función predefinida 'input'. El programa deberá mostrar por pantalla el resultado de la división 10/X. En caso de que el usuario introduzca valores no apropiados, el programa deberá gestionar correctamente las excepciones, por ejemplo, mostrando mensajes informativos por pantalla.\n",
    "\n",
    "9. Escribir un programa que cree un diccionario cualquiera. Posteriormente, el programa pedirá al usuario (a través de la función predefinida 'input') que introduzca una clave del diccionario. Si la clave introducida es correcta (es decir, existe en el diccionario), el programa mostrará por pantalla el valor asociado a dicha clave. En caso de que la clave no exista, el programa gestionará de manera apropiada el error, por ejemplo, mostrando un mensaje informativo al usuario.\n",
    "\n",
    "10. Escribe una list comprehension que construya una lista con los números enteros positivos de una lista de números dada. La lista original puede incluir números de tipo float, los cuales deben ser descartados.\n",
    "\n",
    "11. Escribe una set comprehension que, dada una palabra, construya un conjunto que contenga las vocales de dicha palabra.\n",
    "\n",
    "12. Escribe una list comprehension que construya una lista con todos los números del 0 al 50 que contengan el dígito 3. El resultado será: [3, 13, 23, 30, 31, 32, 33, 34, 35, 36, 37, 38, 39, 43].\n",
    "\n",
    "13. Escribe una dictionary comprehension que construya un diccionario que incluya los tamaños de cada palabra en una frase dada. Ejemplo: el resultado para la frase \"Soy un ser humano\" será {'Soy': 3, 'un': 2, 'ser': 3, 'humano': 6}\n",
    "\n",
    "14. Escribe una list comprehension que construya una lista que incluya todos los números del 1 al 10 en orden. La primera mitad se mostrarán en formato numérico; la segunda mitad en texto. Es decir, el resultado será: [1, 2, 3, 4, 5, 'seis', 'siete', 'ocho', 'nueve', 'diez']."
   ]
  },
  {
   "cell_type": "code",
   "execution_count": 2,
   "id": "4a4c2f24-4e23-4c67-9278-a6de197ac6bb",
   "metadata": {},
   "outputs": [
    {
     "name": "stdout",
     "output_type": "stream",
     "text": [
      "La suma es: 78\n"
     ]
    }
   ],
   "source": [
    "#Ejercicio1\n",
    "lista = [40 ,32, 1, 5]\n",
    "suma = 0\n",
    "for numero in lista:\n",
    "    suma += numero\n",
    "print(\"La suma es:\", suma)"
   ]
  },
  {
   "cell_type": "code",
   "execution_count": 3,
   "id": "152d4ec7-5ce2-4a9d-b737-c1344043930a",
   "metadata": {},
   "outputs": [
    {
     "name": "stdout",
     "output_type": "stream",
     "text": [
      "La lista original es: [1, 3, 4, 5, 6, 6, 5, 4, 3, 2, 3, 1]\n",
      "Lista sin duplicados: [1, 3, 4, 5, 6, 2]\n"
     ]
    }
   ],
   "source": [
    "#Ejercicio2\n",
    "Lista_original = [1, 3, 4, 5, 6, 6, 5, 4, 3, 2, 3, 1]\n",
    "lista_sinduplicados = []\n",
    "for elemento in Lista_original:\n",
    "    if elemento not in lista_sinduplicados:\n",
    "        lista_sinduplicados.append(elemento)\n",
    "print(\"La lista original es:\", Lista_original)\n",
    "print(\"Lista sin duplicados:\", lista_sinduplicados)"
   ]
  },
  {
   "cell_type": "code",
   "execution_count": 1,
   "id": "4e1a3a5a-fc7f-4076-9e4b-463455d8d4e7",
   "metadata": {},
   "outputs": [
    {
     "name": "stdout",
     "output_type": "stream",
     "text": [
      "Diccionario: {1: 1, 2: 4, 3: 9, 4: 16, 5: 25}\n"
     ]
    }
   ],
   "source": [
    "# Ejercicio 3\n",
    "n = 5\n",
    "diccionario = {}\n",
    "i = 1\n",
    "while i <= n:\n",
    "    diccionario[i] = i * i\n",
    "    i += 1\n",
    "print(\"Diccionario:\", diccionario)"
   ]
  },
  {
   "cell_type": "code",
   "execution_count": 6,
   "id": "e1b607d0-5a87-49e9-9c85-db370499b5fa",
   "metadata": {},
   "outputs": [
    {
     "name": "stdout",
     "output_type": "stream",
     "text": [
      "Palabra encontrada: aeropuerto\n"
     ]
    }
   ],
   "source": [
    "# Ejercicio 4\n",
    "palabras = [\"amistad\", \"aeropuerto\", \"bicicleta\", \"asombrosamente\", \"abrazo\"]\n",
    "buscar = False\n",
    "for palabra in palabras:\n",
    "    if len(palabra) > 9 and palabra[0] == 'a':\n",
    "        print(\"Palabra encontrada:\", palabra)\n",
    "        buscar = True\n",
    "        break\n",
    "if not buscar:\n",
    "    print(\"No se encontró ninguna palabra que cumpla la condición.\")"
   ]
  },
  {
   "cell_type": "code",
   "execution_count": 8,
   "id": "c9a262e5-6077-47a0-98e1-afb6b000fab8",
   "metadata": {},
   "outputs": [
    {
     "name": "stdout",
     "output_type": "stream",
     "text": [
      "Los indices de múltiplos de 3: [0, 3, 5]\n"
     ]
    }
   ],
   "source": [
    "# Ejercicio 5\n",
    "L = [3, 5, 13, 15, 1, 0]\n",
    "indice = []\n",
    "i = 0\n",
    "while i < len(L):\n",
    "    if L[i] % 3 == 0:\n",
    "        indice.append(i)\n",
    "    i += 1\n",
    "indice.sort()\n",
    "print(\"Los indices de múltiplos de 3:\", indice)"
   ]
  },
  {
   "cell_type": "code",
   "execution_count": 9,
   "id": "bb14ca3b-99f2-46ad-9e00-25966c52c81f",
   "metadata": {},
   "outputs": [
    {
     "name": "stdout",
     "output_type": "stream",
     "text": [
      "Clave con el valor más alto: d\n"
     ]
    }
   ],
   "source": [
    "# Ejercicio 6\n",
    "d = {'a': 4.3, 'b': 1, 'c': 7.8, 'd': -5}\n",
    "clave = ''\n",
    "valor = float('-inf')\n",
    "for clave in d:\n",
    "    if d[clave] > valor:\n",
    "        valor = d[clave]\n",
    "        clave = clave\n",
    "print(\"Clave con el valor más alto:\", clave)"
   ]
  },
  {
   "cell_type": "code",
   "execution_count": 10,
   "id": "284edad7-548a-4b9f-8663-6578f4e55545",
   "metadata": {},
   "outputs": [
    {
     "name": "stdout",
     "output_type": "stream",
     "text": [
      "6 * 7 = 42\n",
      "6 * 11 = 66\n",
      "8 * 7 = 56\n",
      "8 * 11 = 88\n"
     ]
    }
   ],
   "source": [
    "# Ejercicio 7\n",
    "a = [2, 4, 6, 8]\n",
    "b = [7, 11, 15, 22]\n",
    "\n",
    "for x in a:\n",
    "    if x > 5:\n",
    "        for y in b:\n",
    "            if y < 14:\n",
    "                print(x, \"*\", y, \"=\", x * y)"
   ]
  },
  {
   "cell_type": "code",
   "execution_count": 13,
   "id": "68001800-f7e6-403d-a8fe-47c76754468c",
   "metadata": {},
   "outputs": [
    {
     "name": "stdin",
     "output_type": "stream",
     "text": [
      "Ingresa un valor numérico:  9\n"
     ]
    },
    {
     "name": "stdout",
     "output_type": "stream",
     "text": [
      "Resultado: 1.1111111111111112\n"
     ]
    }
   ],
   "source": [
    "# Ejercicio 8\n",
    "x = input(\"Ingresa un valor numérico: \")\n",
    "try:\n",
    "    x = float(x)\n",
    "    resultado = 10 / x\n",
    "    print(\"Resultado:\", resultado)\n",
    "except ZeroDivisionError:\n",
    "    print(\"Error: No se puede dividir por cero.\")\n",
    "except ValueError:\n",
    "    print(\"Error: Valor ingresado no es numérico.\")"
   ]
  },
  {
   "cell_type": "code",
   "execution_count": 14,
   "id": "75663aca-f419-46aa-a91d-96d02a007835",
   "metadata": {},
   "outputs": [
    {
     "name": "stdin",
     "output_type": "stream",
     "text": [
      "Ingresa un valor numérico:  red\n"
     ]
    },
    {
     "name": "stdout",
     "output_type": "stream",
     "text": [
      "Error: Valor ingresado no es numérico.\n"
     ]
    }
   ],
   "source": [
    "# Ejercicio 8\n",
    "x = input(\"Ingresa un valor numérico: \")\n",
    "try:\n",
    "    x = float(x)\n",
    "    resultado = 10 / x\n",
    "    print(\"Resultado:\", resultado)\n",
    "except ZeroDivisionError:\n",
    "    print(\"Error: No se puede dividir por cero.\")\n",
    "except ValueError:\n",
    "    print(\"Error: Valor ingresado no es numérico.\")"
   ]
  },
  {
   "cell_type": "code",
   "execution_count": 15,
   "id": "53f5eb78-a0f7-4bb9-b082-dd42ca4502f6",
   "metadata": {},
   "outputs": [
    {
     "name": "stdin",
     "output_type": "stream",
     "text": [
      "Introduce una clave:  nombre\n"
     ]
    },
    {
     "name": "stdout",
     "output_type": "stream",
     "text": [
      "Valor: Ana\n"
     ]
    }
   ],
   "source": [
    "# Ejercicio 9\n",
    "diccionario = {'nombre': 'Ana', 'edad': 30, 'ciudad': 'Quito'}\n",
    "clave = input(\"Introduce una clave: \")\n",
    "\n",
    "if clave in diccionario:\n",
    "    print(\"Valor:\", diccionario[clave])\n",
    "else:\n",
    "    print(\"Esa clave no existe en el diccionario.\")"
   ]
  },
  {
   "cell_type": "code",
   "execution_count": 16,
   "id": "ec9711ad-3e8f-4160-baa6-4f9aa798b269",
   "metadata": {},
   "outputs": [
    {
     "name": "stdin",
     "output_type": "stream",
     "text": [
      "Introduce una clave:  Cumpleaños\n"
     ]
    },
    {
     "name": "stdout",
     "output_type": "stream",
     "text": [
      "Esa clave no existe en el diccionario.\n"
     ]
    }
   ],
   "source": [
    "# Ejercicio 9\n",
    "diccionario = {'nombre': 'Ana', 'edad': 30, 'ciudad': 'Quito'}\n",
    "clave = input(\"Introduce una clave: \")\n",
    "\n",
    "if clave in diccionario:\n",
    "    print(\"Valor:\", diccionario[clave])\n",
    "else:\n",
    "    print(\"Esa clave no existe en el diccionario.\")"
   ]
  },
  {
   "cell_type": "code",
   "execution_count": 17,
   "id": "cbf85bee-c169-40ad-bb6f-3d4cf6a91164",
   "metadata": {},
   "outputs": [
    {
     "name": "stdout",
     "output_type": "stream",
     "text": [
      "[2, 6, 9]\n"
     ]
    }
   ],
   "source": [
    "# Ejercicio 10\n",
    "lista = [2, -3, 4.5, 6, 7.1, 9, -1]\n",
    "positivos = [x for x in lista if type(x) == int and x > 0]\n",
    "print(positivos)"
   ]
  },
  {
   "cell_type": "code",
   "execution_count": 18,
   "id": "179804be-1b73-4d6d-82fd-c88c59ef01de",
   "metadata": {},
   "outputs": [
    {
     "name": "stdout",
     "output_type": "stream",
     "text": [
      "{'u', 'e', 'a'}\n"
     ]
    }
   ],
   "source": [
    "# Ejercicio 11\n",
    "palabra = \"naturaleza\"\n",
    "vocales = 'aeiou'\n",
    "conjunto = {letra for letra in palabra if letra in vocales}\n",
    "print(conjunto)"
   ]
  },
  {
   "cell_type": "code",
   "execution_count": 19,
   "id": "cd777023-9cbf-483a-a981-dc1f9ee2e250",
   "metadata": {},
   "outputs": [
    {
     "name": "stdout",
     "output_type": "stream",
     "text": [
      "[3, 13, 23, 30, 31, 32, 33, 34, 35, 36, 37, 38, 39, 43]\n"
     ]
    }
   ],
   "source": [
    "# Ejercicio 12\n",
    "numeros = [x for x in range(51) if '3' in str(x)]\n",
    "print(numeros)"
   ]
  },
  {
   "cell_type": "code",
   "execution_count": 20,
   "id": "1495b062-e9ba-4ace-91a8-a8c6841516f2",
   "metadata": {},
   "outputs": [
    {
     "name": "stdout",
     "output_type": "stream",
     "text": [
      "{'Hola': 4, 'Mundo': 5}\n"
     ]
    }
   ],
   "source": [
    "# Ejercicio 13\n",
    "frase = \"Hola Mundo\"\n",
    "dic = {palabra: len(palabra) for palabra in frase.split()}\n",
    "print(dic)"
   ]
  },
  {
   "cell_type": "code",
   "execution_count": 21,
   "id": "66492bbb-eff7-408e-bd0b-275bda3bbc54",
   "metadata": {},
   "outputs": [
    {
     "name": "stdout",
     "output_type": "stream",
     "text": [
      "[1, 2, 3, 4, 5, 'seis', 'siete', 'ocho', 'nueve', 'diez']\n"
     ]
    }
   ],
   "source": [
    "# Ejercicio 14\n",
    "nombres = ['uno', 'dos', 'tres', 'cuatro', 'cinco', 'seis', 'siete', 'ocho', 'nueve', 'diez']\n",
    "resultado = [i + 1 if i < 5 else nombres[i] for i in range(10)]\n",
    "print(resultado)"
   ]
  },
  {
   "cell_type": "code",
   "execution_count": null,
   "id": "e3a42b5b-d50d-4d93-bc6c-5e513e50c2a2",
   "metadata": {},
   "outputs": [],
   "source": []
  }
 ],
 "metadata": {
  "kernelspec": {
   "display_name": "Python 3 (ipykernel)",
   "language": "python",
   "name": "python3"
  },
  "language_info": {
   "codemirror_mode": {
    "name": "ipython",
    "version": 3
   },
   "file_extension": ".py",
   "mimetype": "text/x-python",
   "name": "python",
   "nbconvert_exporter": "python",
   "pygments_lexer": "ipython3",
   "version": "3.13.5"
  }
 },
 "nbformat": 4,
 "nbformat_minor": 5
}
