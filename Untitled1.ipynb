{
 "cells": [
  {
   "cell_type": "code",
   "execution_count": 6,
   "id": "2ac4b6ed-9cbf-44f4-85fe-0eb05cb3f687",
   "metadata": {},
   "outputs": [],
   "source": [
    "#Importamos solo las librerías necesarias\n",
    "import numpy as np\n",
    "import matplotlib.pyplot as plt\n",
    "from sklearn.linear_model import LinearRegression"
   ]
  },
  {
   "cell_type": "code",
   "execution_count": null,
   "id": "e90098a9-f952-4955-ab55-d785703f6b5b",
   "metadata": {},
   "outputs": [],
   "source": [
    "# 📊 Simulamos datos (puedes cambiarlos si quieres usar reales)\n",
    "np.random.seed(0)\n",
    "cantidad_palabras = np.random.randint(300, 2500, 100)\n",
    "compartidos = cantidad_palabras * 20 + np.random.randint(0, 50000, 100)\n",
    "\n",
    "# 📁 Preparamos los datos para el modelo\n",
    "X = cantidad_palabras.reshape(-1, 1)  # Variable independiente\n",
    "y = compartidos  # Variable dependiente\n",
    "\n",
    "# 🧠 Creamos y entrenamos el modelo de regresión\n",
    "modelo = LinearRegression()\n",
    "modelo.fit(X, y)\n",
    "\n",
    "# 📈 Visualizamos los datos y la recta de regresión\n",
    "plt.scatter(X, y, color='blue', label='Datos Reales')\n",
    "plt.plot(X, modelo.predict(X), color='red', linewidth=2, label='Recta de Regresión')\n",
    "plt.title(\"Regresión Lineal\")\n",
    "plt.xlabel(\"Cantidad de Palabras\")\n",
    "plt.ylabel(\"Compartidos\")\n",
    "plt.legend()\n",
    "plt.grid(True)\n",
    "plt.show()\n",
    "\n",
    "# 🧮 Predicción con entrada por teclado\n",
    "try:\n",
    "    cantidad_input = float(input(\"🔍 Ingresa la cantidad de palabras para predecir los compartidos: \"))\n",
    "    prediccion = modelo.predict([[cantidad_input]])\n",
    "    print(f\"📢 La predicción de compartidos para {cantidad_input} palabras es: {prediccion[0]:.2f}\")\n",
    "except ValueError:\n",
    "    print(\"⚠️ Por favor, ingresa un número válido.\")"
   ]
  },
  {
   "cell_type": "code",
   "execution_count": null,
   "id": "5dc03a70-47e9-441b-8ba1-885648ccea59",
   "metadata": {},
   "outputs": [],
   "source": []
  }
 ],
 "metadata": {
  "kernelspec": {
   "display_name": "Python 3 (ipykernel)",
   "language": "python",
   "name": "python3"
  },
  "language_info": {
   "codemirror_mode": {
    "name": "ipython",
    "version": 3
   },
   "file_extension": ".py",
   "mimetype": "text/x-python",
   "name": "python",
   "nbconvert_exporter": "python",
   "pygments_lexer": "ipython3",
   "version": "3.13.5"
  }
 },
 "nbformat": 4,
 "nbformat_minor": 5
}
