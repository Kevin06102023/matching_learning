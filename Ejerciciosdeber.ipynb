{
 "cells": [
  {
   "cell_type": "markdown",
   "id": "62730b03-6721-42e0-9a1d-125d0f66663c",
   "metadata": {},
   "source": [
    "<img src=\"img/Logo_itq.png\" width=\"200\"/>\n",
    "\n",
    "# EJERCICIOS\n",
    "<img src=\"img/python_logo.png\"/> <br>\n",
    "**Nombre:** Kevin Jaramillo<br>\n",
    "*Fecha:* 29/06/2025"
   ]
  },
  {
   "cell_type": "markdown",
   "id": "12e939e9-a704-402e-a919-0c807e7119ed",
   "metadata": {},
   "source": [
    "* Escribe un programa que muestre por pantalla la concatenación de un número y una cadena de caracteres. Para obtener esta concatenación puedes usar uno de los operadores explicados en este tema. Ejemplo: dado el número 3 y la cadena 'abc', el programa mostrará la cadena '3abc'."
   ]
  },
  {
   "cell_type": "code",
   "execution_count": 5,
   "id": "7e18a650-fcc9-4f62-8ed9-cac13d0e061e",
   "metadata": {},
   "outputs": [
    {
     "name": "stdout",
     "output_type": "stream",
     "text": [
      "43Kevin Jaramillo\n",
      "140727944067304\n",
      "2011664323888\n"
     ]
    }
   ],
   "source": [
    "a = 43\n",
    "b = \"Kevin Jaramillo\"\n",
    "print(str(a) + b)\n",
    "print(id(a))\n",
    "print(id(b))"
   ]
  },
  {
   "cell_type": "markdown",
   "id": "91603e3f-24ce-4bad-8347-88b91225f68d",
   "metadata": {},
   "source": [
    "* Escribe un programa que muestre por pantalla un valor booleano que indique si un número entero N está contenido en un intervalo semiabierto [a,b), el cual establece una cota inferior a (inclusive) y una cota superior b (exclusive) para N."
   ]
  },
  {
   "cell_type": "code",
   "execution_count": 9,
   "id": "f71a8eab-69ae-4ff0-b524-2aa7ed9184ed",
   "metadata": {},
   "outputs": [
    {
     "name": "stdout",
     "output_type": "stream",
     "text": [
      "True\n"
     ]
    }
   ],
   "source": [
    "a = 2\n",
    "b = 15\n",
    "N = 9\n",
    "resul = a <= N < b\n",
    "print(resul)"
   ]
  },
  {
   "cell_type": "code",
   "execution_count": 8,
   "id": "8fc17540-def8-4a60-819f-3eed52d1bdf3",
   "metadata": {},
   "outputs": [
    {
     "name": "stdout",
     "output_type": "stream",
     "text": [
      "False\n"
     ]
    }
   ],
   "source": [
    "a = 2\n",
    "b = 15\n",
    "N = 20\n",
    "resul = a <= N < b\n",
    "print(resul)"
   ]
  },
  {
   "cell_type": "markdown",
   "id": "7d4e1111-b73d-4972-9c15-4ed6ef2a3851",
   "metadata": {},
   "source": [
    "* Escribe un programa que, dado dos strings S1 y S2 y dos números enteros N1 y N2, determine si el substring que en S1 se extiende desde la posición N1 a la N2 (ambos inclusive) está contenido en S2."
   ]
  },
  {
   "cell_type": "code",
   "execution_count": 11,
   "id": "07d759a7-b7de-4f43-885f-1a71724cacc7",
   "metadata": {},
   "outputs": [
    {
     "name": "stdout",
     "output_type": "stream",
     "text": [
      "True\n"
     ]
    }
   ],
   "source": [
    "S1 = \"KevinJaramillo\"\n",
    "S2 = \"Hola me llamo Jaramillo Kevin\"\n",
    "N1 = 5\n",
    "N2 = 13\n",
    "\n",
    "substring = S1[N1:N2+1]\n",
    "resultado = substring in S2\n",
    "print(resultado)"
   ]
  },
  {
   "cell_type": "code",
   "execution_count": 12,
   "id": "7a3b56b1-dad3-4bc3-aa75-2f41631f5f0a",
   "metadata": {},
   "outputs": [
    {
     "name": "stdout",
     "output_type": "stream",
     "text": [
      "False\n"
     ]
    }
   ],
   "source": [
    "S1 = \"KevinJaramillo\"\n",
    "S2 = \"Hola me llamo Jaramillo Kevin\"\n",
    "N1 = 2\n",
    "N2 = 12\n",
    "\n",
    "substring = S1[N1:N2+1]\n",
    "resultado = substring in S2\n",
    "print(resultado)"
   ]
  },
  {
   "cell_type": "markdown",
   "id": "e835de39-cbe7-432f-b5c0-765b18472953",
   "metadata": {},
   "source": [
    "* Dada una lista con elementos duplicados, escribir un programa que muestre una nueva lista con el mismo contenido que la primera pero sin elementos duplicados."
   ]
  },
  {
   "cell_type": "code",
   "execution_count": 14,
   "id": "150bfd88-9353-4873-9bb6-6524a33cb736",
   "metadata": {},
   "outputs": [
    {
     "name": "stdout",
     "output_type": "stream",
     "text": [
      "[1, 2, 3, 4, 2, 3, 4, 5, 6, 7, 8, 8, 9]\n",
      "[1, 2, 3, 4, 5, 6, 7, 8, 9]\n"
     ]
    }
   ],
   "source": [
    "lista_duplicada = [1,2,3,4,2,3,4,5,6,7,8,8,9]\n",
    "print(lista_duplicada)\n",
    "lista = list(set(lista_duplicada))\n",
    "print(lista)"
   ]
  },
  {
   "cell_type": "markdown",
   "id": "aebf7273-1023-4430-9e87-91674fc28502",
   "metadata": {},
   "source": [
    "* Escribe un programa que, dada una lista de strings L, un string s perteneciente a L y un string t, reemplace s por t en L. El programa debe mostrar la lista resultante por pantalla."
   ]
  },
  {
   "cell_type": "code",
   "execution_count": 16,
   "id": "0fd1c678-77d7-4676-8e12-df3d14933a86",
   "metadata": {},
   "outputs": [
    {
     "name": "stdout",
     "output_type": "stream",
     "text": [
      "['manzana', 'pera', 'banana', 'pera']\n",
      "['manzana', 'uva', 'banana', 'uva']\n"
     ]
    }
   ],
   "source": [
    "L = [\"manzana\", \"pera\", \"banana\", \"pera\"]\n",
    "s = \"pera\"\n",
    "t = \"uva\"\n",
    "L_resultado = [ t if elemento == s else elemento for elemento in L]\n",
    "print(L)\n",
    "print(L_resultado)"
   ]
  },
  {
   "cell_type": "markdown",
   "id": "0e448391-f6ad-485b-925c-2806b96d6ea2",
   "metadata": {},
   "source": [
    "* Escribe un programa que defina una tupla con elementos numéricos, reemplace el valor del último por un valor diferente y muestre la tupla por pantalla. Recuerda que las tuplas son inmutables. Tendrás que usar objetos intermedios."
   ]
  },
  {
   "cell_type": "code",
   "execution_count": 18,
   "id": "8394cc9e-fbab-4170-a566-d889481bbf1d",
   "metadata": {},
   "outputs": [
    {
     "name": "stdout",
     "output_type": "stream",
     "text": [
      "(11, 24, 30, 55, 90)\n",
      "(11, 24, 12, 55, 90)\n"
     ]
    }
   ],
   "source": [
    "tupla = (11, 24, 30, 55 ,90)\n",
    "lista = list(tupla)\n",
    "lista[-3] = 12\n",
    "tupla_nueva = tuple(lista)\n",
    "print(tupla)\n",
    "print(tupla_nueva)"
   ]
  },
  {
   "cell_type": "markdown",
   "id": "0aaaede9-ebac-48a9-bb68-383d0eab2093",
   "metadata": {},
   "source": [
    "* Dada la lista [1,2,3,4,5,6,7,8] escribe un programa que, a partir de esta lista, obtenga la lista [8,6,4,2] y la muestre por pantalla."
   ]
  },
  {
   "cell_type": "code",
   "execution_count": 19,
   "id": "61ba22f1-7286-4431-bf1c-a30f5926d3d8",
   "metadata": {},
   "outputs": [
    {
     "name": "stdout",
     "output_type": "stream",
     "text": [
      "[8, 6, 4, 2]\n"
     ]
    }
   ],
   "source": [
    "Lista = [1, 2, 3, 4, 5, 6, 7, 8]\n",
    "lista_1 = [x for x in Lista if x % 2 == 0][::-1]\n",
    "print(lista_1)"
   ]
  },
  {
   "cell_type": "markdown",
   "id": "7eebc290-aa85-40f8-b7aa-cbce43127ba1",
   "metadata": {},
   "source": [
    "* Escribe un programa que, dada una tupla y un índice válido i, elimine el elemento de la tupla que se encuentra en la posición i. Para este ejercicio sólo puedes usar objetos de tipo tupla. No puedes convetir la tupla a una lista, por ejemplo."
   ]
  },
  {
   "cell_type": "code",
   "execution_count": 21,
   "id": "690c4efe-7aa3-40a0-86df-b4f0ba1286dd",
   "metadata": {},
   "outputs": [
    {
     "name": "stdout",
     "output_type": "stream",
     "text": [
      "(20, 40, 70, 100)\n"
     ]
    }
   ],
   "source": [
    "t = (20, 40 ,70, 80 ,100)\n",
    "i = 3\n",
    "tupla = t[:i] + t[i+1:]\n",
    "print(tupla)"
   ]
  },
  {
   "cell_type": "markdown",
   "id": "a6d58b73-e1e8-4d90-997b-10105d0f4667",
   "metadata": {},
   "source": [
    "* Escribe un programa que obtenga la mediana de una lista de números. Recuerda que la mediana M de una lista de números L es el número que cumple la siguiente propiedad: la mitad de los números de L son superiores a M y la otra mitad son inferiores. Cuando el número de elementos de L es par, se puede considerar que hay dos medianas. No obstante, en este ejercicio consideraremos que únicamente existe una mediana."
   ]
  },
  {
   "cell_type": "code",
   "execution_count": 30,
   "id": "1d41563e-3396-4d5a-a897-dcd6db41ebee",
   "metadata": {},
   "outputs": [
    {
     "name": "stdout",
     "output_type": "stream",
     "text": [
      "[3, 4, 8, 10, 24]\n",
      "La mediana es: 8\n"
     ]
    }
   ],
   "source": [
    "L = [3, 4, 8, 10, 24]\n",
    "L.sort()\n",
    "n = len(L)\n",
    "medio = n // 2\n",
    "if n % 2 == 1:\n",
    "    mediana = L[medio]\n",
    "else:\n",
    "    mediana = (L[medio - 1] + L[medio]) /2\n",
    "print(L)\n",
    "print(\"La mediana es:\", mediana)"
   ]
  },
  {
   "cell_type": "code",
   "execution_count": 27,
   "id": "ca08b138-4170-4488-9618-b69c6b070380",
   "metadata": {},
   "outputs": [
    {
     "name": "stdout",
     "output_type": "stream",
     "text": [
      "[1, 2, 3, 4, 7, 9]\n",
      "La mediana es: 3.5\n"
     ]
    }
   ],
   "source": [
    "L = [4, 1, 7, 3, 2, 9]\n",
    "L.sort()\n",
    "n = len(L)\n",
    "medio = n // 2\n",
    "if n % 2 == 1:\n",
    "    mediana = L[medio]\n",
    "else:\n",
    "    mediana = (L[medio - 1] + L[medio]) / 2\n",
    "print(L)\n",
    "print(\"La mediana es:\", mediana)"
   ]
  },
  {
   "cell_type": "code",
   "execution_count": null,
   "id": "2eceee04-37e2-4121-9dcd-f8688f7bc507",
   "metadata": {},
   "outputs": [],
   "source": []
  }
 ],
 "metadata": {
  "kernelspec": {
   "display_name": "Python 3 (ipykernel)",
   "language": "python",
   "name": "python3"
  },
  "language_info": {
   "codemirror_mode": {
    "name": "ipython",
    "version": 3
   },
   "file_extension": ".py",
   "mimetype": "text/x-python",
   "name": "python",
   "nbconvert_exporter": "python",
   "pygments_lexer": "ipython3",
   "version": "3.13.5"
  }
 },
 "nbformat": 4,
 "nbformat_minor": 5
}
