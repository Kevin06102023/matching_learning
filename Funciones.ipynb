{
 "cells": [
  {
   "cell_type": "markdown",
   "id": "11a63c9b-1b82-4eda-b8e5-58a310215f35",
   "metadata": {},
   "source": [
    "<img src=\"img/Logo_itq.png\" width=\"200\"/>\n",
    "\n",
    "# EJERCICIOS\n",
    "<img src=\"img/python_logo.png\"/> <br>\n",
    "**Nombre:** Kevin Jaramillo<br>\n",
    "*Fecha:* 29/06/2025<br>\n",
    "<a href = \"https://github.com/Kevin06102023/matching_learning/blob/master/Ejerciciosdeber.ipynb\">Enlace del deber</a>"
   ]
  },
  {
   "cell_type": "markdown",
   "id": "cf1610a1-9f4d-4be0-bc95-85758438f714",
   "metadata": {},
   "source": [
    "## Ejercicios\n",
    "1. Escribe una función que reciba como entrada una lista con números y devuelva como resultado una lista con los cuadrados de los números contenidos en la lista de entrada.\n",
    "\n",
    "2. Escribe una función que reciba números como entrada y devuelva la suma de los mismos. La función debe ser capaz de recibir una cantidad indeterminada de números. La función no debe recibir directamente ningún objeto complejo (lista, conjunto, etc.).\n",
    "\n",
    "3. Escribe una función que reciba un string como entrada y devuelva el string al revés. Ejemplo: si el string de entrada es 'hola', el resultado será 'aloh'.\n",
    "\n",
    "4. Escribe una función lambda que, al igual que la función desarrollada en el ejercicio anterior, invierta el string recibido como parámetro. Ejemplo: si el string de entrada es 'hola', el resultado será 'aloh'.\n",
    "\n",
    "5. Escribe una función que compruebe si un número se encuentra dentro de un rango específico.\n",
    "\n",
    "6. Escribe una función que reciba un número entero positivo como parámetro y devuelva una lista que contenga los 5 primeros múltiplos de dicho número. Por ejemplo, si la función recibe el número 3, devolverá la lista [3, 6, 9, 12, 15]. Si la función recibe un parámetro incorrecto (por ejemplo, un múmero menor o igual a cero), mostrará un mensaje de error por pantalla y devolverá una lista vacía.\n",
    "\n",
    "7. Escribe una función que reciba una lista como parámetro y compruebe si la lista tiene duplicados. La función devolverá True si la lista tiene duplicados y False si no los tiene.\n",
    "\n",
    "8. Escribe una función lambda que, al igual que la función desarrollada en el ejercicio anterior, reciba una lista como parámetro y compruebe si la lista tiene duplicados. La función devolverá True si la lista tiene duplicados y False si no los tiene.\n",
    "\n",
    "9. Escribe una función que compruebe si un string dado es un palíndromo. Un palíndromo es una secuencia de caracteres que se lee igual de izquierda a derecha que de derecha a izquierda. Por ejemplo, la función devolverá True si recibe el string \"reconocer\" y False si recibe el string \"python\"."
   ]
  },
  {
   "cell_type": "code",
   "execution_count": 1,
   "id": "329dbe49-a7a9-492f-aa6a-934b9e9defaf",
   "metadata": {},
   "outputs": [
    {
     "name": "stdout",
     "output_type": "stream",
     "text": [
      "[1, 4, 9, 16]\n"
     ]
    }
   ],
   "source": [
    "#Ejercicio 1\n",
    "def cuadrados(lista):\n",
    "    return [x**2 for x in lista]\n",
    "\n",
    "print(cuadrados([1, 2, 3, 4]))"
   ]
  },
  {
   "cell_type": "code",
   "execution_count": 13,
   "id": "9b83a951-d961-4ead-b8a5-f3b46ca01792",
   "metadata": {},
   "outputs": [
    {
     "name": "stdout",
     "output_type": "stream",
     "text": [
      "6\n",
      "17\n"
     ]
    }
   ],
   "source": [
    "#Ejercicio 2\n",
    "def suma(*numeros):\n",
    "    return sum(numeros)\n",
    "\n",
    "print(suma(1, 2, 3))\n",
    "print(suma(10, -5, 8, 4))"
   ]
  },
  {
   "cell_type": "code",
   "execution_count": 3,
   "id": "3ef261a4-bacb-452f-8b21-06ba87136eab",
   "metadata": {},
   "outputs": [
    {
     "name": "stdout",
     "output_type": "stream",
     "text": [
      "aloh\n"
     ]
    }
   ],
   "source": [
    "#Ejercicio 3\n",
    "def invertir_string(s):\n",
    "    return s[::-1]\n",
    "\n",
    "print(invertir_string(\"hola\"))"
   ]
  },
  {
   "cell_type": "code",
   "execution_count": 10,
   "id": "1002f46a-21ce-49cc-a76d-f65c4ebc4b2d",
   "metadata": {},
   "outputs": [
    {
     "name": "stdout",
     "output_type": "stream",
     "text": [
      "ogaleicrum\n"
     ]
    }
   ],
   "source": [
    "#Ejercicio 4\n",
    "invertir = lambda s: s[::-1]\n",
    "\n",
    "print(invertir(\"murcielago\"))"
   ]
  },
  {
   "cell_type": "code",
   "execution_count": 12,
   "id": "51b360bc-00ff-4f28-8eaa-8b15f8ee6d9d",
   "metadata": {},
   "outputs": [
    {
     "name": "stdout",
     "output_type": "stream",
     "text": [
      "True\n",
      "False\n"
     ]
    }
   ],
   "source": [
    "#Ejercicio 5\n",
    "def rango(n, minimo, maximo):\n",
    "    return minimo <= n <= maximo\n",
    "\n",
    "print(rango(5, 1, 10))\n",
    "print(rango(15, 1, 10))"
   ]
  },
  {
   "cell_type": "code",
   "execution_count": 21,
   "id": "e9ff5733-a0d8-46b7-8a52-6489472db142",
   "metadata": {},
   "outputs": [
    {
     "name": "stdout",
     "output_type": "stream",
     "text": [
      "[3, 6, 9, 12, 15]\n",
      "Error: el número debe ser positivo.\n",
      "[]\n"
     ]
    }
   ],
   "source": [
    "#Ejercicio 6\n",
    "def multiplos(n):\n",
    "    if n > 0:\n",
    "        return [n * i for i in range(1, 6)]\n",
    "    else:\n",
    "        print(\"Error: el número debe ser positivo.\")\n",
    "        return []\n",
    "\n",
    "print(multiplos(3))\n",
    "print(multiplos(-2))"
   ]
  },
  {
   "cell_type": "code",
   "execution_count": 22,
   "id": "16e34167-5e09-4f90-a588-706c40663da3",
   "metadata": {},
   "outputs": [
    {
     "name": "stdout",
     "output_type": "stream",
     "text": [
      "True\n",
      "False\n"
     ]
    }
   ],
   "source": [
    "#Ejercicio 7\n",
    "def duplicados(lista):\n",
    "    return len(lista) != len(set(lista))\n",
    "\n",
    "print(duplicados([1, 2, 3, 2]))\n",
    "print(duplicados([1, 2, 3, 4]))"
   ]
  },
  {
   "cell_type": "code",
   "execution_count": 25,
   "id": "7817343e-ac72-4030-934d-0d1d5ab9f1e8",
   "metadata": {},
   "outputs": [
    {
     "name": "stdout",
     "output_type": "stream",
     "text": [
      "True\n",
      "False\n"
     ]
    }
   ],
   "source": [
    "#Ejercicio 8\n",
    "numeros_duplicados = lambda l: len(l) != len(set(l))\n",
    "\n",
    "print(numeros_duplicados([1, 2, 3, 1]))\n",
    "print(numeros_duplicados([1, 2, 3, 4]))"
   ]
  },
  {
   "cell_type": "code",
   "execution_count": 27,
   "id": "a15802b6-a7c2-4a4b-91dd-9b5ace7a69a0",
   "metadata": {},
   "outputs": [
    {
     "name": "stdout",
     "output_type": "stream",
     "text": [
      "True\n",
      "False\n",
      "True\n"
     ]
    }
   ],
   "source": [
    "#Ejercicio 9\n",
    "def palindromo(s):\n",
    "    return s == s[::-1]\n",
    "\n",
    "print(palindromo(\"reconocer\"))\n",
    "print(palindromo(\"python\"))\n",
    "print(palindromo(\"oso\"))"
   ]
  },
  {
   "cell_type": "code",
   "execution_count": null,
   "id": "5f28de95-324c-4c5a-a57f-0afc66bc580b",
   "metadata": {},
   "outputs": [],
   "source": []
  }
 ],
 "metadata": {
  "kernelspec": {
   "display_name": "Python 3 (ipykernel)",
   "language": "python",
   "name": "python3"
  },
  "language_info": {
   "codemirror_mode": {
    "name": "ipython",
    "version": 3
   },
   "file_extension": ".py",
   "mimetype": "text/x-python",
   "name": "python",
   "nbconvert_exporter": "python",
   "pygments_lexer": "ipython3",
   "version": "3.13.5"
  }
 },
 "nbformat": 4,
 "nbformat_minor": 5
}
