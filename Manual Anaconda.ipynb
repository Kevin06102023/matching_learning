{
 "cells": [
  {
   "cell_type": "markdown",
   "id": "312ea2a5-6fd0-403f-96c8-eb26086887f5",
   "metadata": {},
   "source": [
    "<img src=\"img/Logo_itq.png\"><br>\n",
    "# Manual de guia \n",
    "<img src=\"img/python_logo.png\"><br>\n",
    "**Nombre:** Kevin Jaramillo<br>\n",
    "*Fecha:* 25/06/2025<br>\n",
    "<a href=\"https://github.com/Kevin06102023/matching_learning\">Enlace a github(trabajo)</a><br>\n",
    "## Manual de instalación anaconda \n",
    "* <a href=\"https://www.anaconda.com/download/success\">Entrar al sitio oficial de Anaconda</a>\n",
    "### Existen dos opciones:\n",
    "* Distribution Installers\n",
    "* Miniconda Installers \n",
    "<p>Después de investigar un poco encontre que el Distribution Installers es de Anaconda(Python), exclusivamnete para ciencia de datos, machine learning y desarrolllo científico. Mientras tanto Miniconda Installers es una versión ligera y mínima de Anaconda, es una porción de anaconda con menos funciones y funcionalidades.</p>\n",
    "<p>Después de esto ya eligiendo tu sistema operativo se va a descargar la plataforma de ahi te va a pedir seguir ciertos pasoso en el cual tienes que ir poniendo aceptar, y es la pantalla que te va guiando hasta que empice la instalación del aplicativo</p>\n",
    "<p>Una vez instalada la aplicación se debe realizar ciertas modificaciones en la zona de home primaremente descargar:</p>\n",
    "* JupiterLab\n",
    "* Cmd.exe\n",
    "<p>En enviroment se crea un nuevo ambiente con el nombre, en mi caso maching learning</p>\n",
    "* Iniciamos JupiterLab en el ambiente que creamos de igualmanera todo lo que trabajemos o hagamos sera realizado con el ambiente que se creo.\n",
    "* Se crea una carpeta en la maquina que nos servira de repositorio.\n",
    "* Si se desea colocar imagenes se crea una carpeta donde estas trabajando e insertas las imagenes que necesitas, mediante vayas construyendo el codigo vas colocando las imagenes con la etiqueta **img** y para que se busque o el sistema reconosca la imagen se declara en el **src** y vas poniendo la ubicación de las imagenes.<br>\n",
    "\n",
    "## Manual de Github\n",
    "* Abri mi cuenta de github(Si no tienes cuenta hay que iniciar registrarse e iniciar sesión)\n",
    "* Cree un nuevo repositorio con el nombre de marchinlearning.\n",
    "* De ahi para gurdar el ejemplo que se realizo en Jupiter abri la cdm de anaconda.\n",
    "* Como era la primera vez que iba a usar el git en Jupiter inicie con git init un comando que inicializa los comando git.\n",
    "* De ahi verificamos el estado del repositorio con git status.\n",
    "* De ahi agregamos todos los archivos con git add .\n",
    "* Creamos un commit con un mensaje que describa los cambios(git commit -m \"Cualquier cosa\").\n",
    "* en este caso tuve que guardar la actividad en el repositorio con lo cual me toco usar el comando git remote add origin https://github.com/depende mucho de como llamaste tu repositorio y cual es tu usuario, que sirve para subir al repositorio los cambios.Como era primera vez me toco realizar todos estos pasos.\n",
    "* Actualmente en github la rama principal que se usa es main sinembargo en mi caso se usa el master entonces realice un git push -u origin main.\n",
    "<p>Con esto ya estaria listo todo nuestro ambiente de trabajo, de igual manera es bastante aprendizaje e investigar mucho ya que hay cosas que uno no se acuerda y que este proceso le ayuda recordar o que es nuevo , por ejemplo el poder descargar en pdf lleva cierto proceso y descargas de librerias para poder funcionar y aun asi me falta investigar un poco para descubrir como lograr que quede perfecto el pdf al descargar o exportar.</p>"
   ]
  },
  {
   "cell_type": "code",
   "execution_count": null,
   "id": "4179c8ef-4f5d-45c5-85fc-b9a43563825e",
   "metadata": {},
   "outputs": [],
   "source": []
  }
 ],
 "metadata": {
  "kernelspec": {
   "display_name": "Python 3 (ipykernel)",
   "language": "python",
   "name": "python3"
  },
  "language_info": {
   "codemirror_mode": {
    "name": "ipython",
    "version": 3
   },
   "file_extension": ".py",
   "mimetype": "text/x-python",
   "name": "python",
   "nbconvert_exporter": "python",
   "pygments_lexer": "ipython3",
   "version": "3.13.5"
  }
 },
 "nbformat": 4,
 "nbformat_minor": 5
}
