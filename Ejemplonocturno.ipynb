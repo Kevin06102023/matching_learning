{
 "cells": [
  {
   "cell_type": "markdown",
   "id": "c3427f5c-dda3-4f08-99eb-85464277dedd",
   "metadata": {},
   "source": [
    "# Introducción\n",
    "\n",
    "Matching E-learnin es una rama de la IA <br>\n",
    "<img src=\"img/python_logo.png\"><br>\n",
    "**Nombre:** Kevin Jaramillo <br>\n",
    "*Fecha:* 25/06/2025 <br>\n",
    "<a href=\"https://github.com/Kevin06102023/matching_learning\">Enlace Github</a><br>\n",
    "## Lenguaje de programación\n",
    "* Python\n",
    "* Java"
   ]
  },
  {
   "cell_type": "markdown",
   "id": "8ee4674d-3c9d-480f-8fd7-ac76a4b4edbc",
   "metadata": {},
   "source": []
  },
  {
   "cell_type": "code",
   "execution_count": null,
   "id": "66dc6ea7-5c8e-4648-b22d-9dbe101e25ca",
   "metadata": {},
   "outputs": [],
   "source": []
  }
 ],
 "metadata": {
  "kernelspec": {
   "display_name": "Python 3 (ipykernel)",
   "language": "python",
   "name": "python3"
  },
  "language_info": {
   "codemirror_mode": {
    "name": "ipython",
    "version": 3
   },
   "file_extension": ".py",
   "mimetype": "text/x-python",
   "name": "python",
   "nbconvert_exporter": "python",
   "pygments_lexer": "ipython3",
   "version": "3.13.5"
  }
 },
 "nbformat": 4,
 "nbformat_minor": 5
}
