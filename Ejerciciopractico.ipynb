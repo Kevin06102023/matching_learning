{
 "cells": [
  {
   "cell_type": "markdown",
   "id": "ef2837cd-9f0c-4ad7-97b7-07f468d305f6",
   "metadata": {},
   "source": [
    "<img src=\"img/institutoquitoitq_logo.jpeg\" width=\"200\"/><br>\n",
    "# Ejercicios\n",
    "<img src=\"img/python_logo.png\"/><br>\n",
    "**Nombre:** Kevin Jaramillo<br>\n",
    "*Fecha:* 26/06/2025<br>\n",
    "<a href=\"https://github.com/Kevin06102023/matching_learning\">Enlace github</a>"
   ]
  },
  {
   "cell_type": "markdown",
   "id": "d348e304-25ac-4de2-ab07-077746f9a6b2",
   "metadata": {},
   "source": [
    "## Contenido \n",
    "### Tipos de comentarios"
   ]
  },
  {
   "cell_type": "markdown",
   "id": "c7b344c0-3beb-4838-ace2-35f54e5c2b7c",
   "metadata": {},
   "source": [
    "**Comentarios de una línea**"
   ]
  },
  {
   "cell_type": "code",
   "execution_count": 2,
   "id": "43d131cc-0b4b-47ba-a0cf-0052d2e44582",
   "metadata": {},
   "outputs": [
    {
     "name": "stdout",
     "output_type": "stream",
     "text": [
      "Hello world\n"
     ]
    }
   ],
   "source": [
    "#Esto es una instrucción print\n",
    "print('Hello world')   # Esto es una instrucción print"
   ]
  },
  {
   "cell_type": "markdown",
   "id": "21377b10-f0f0-4136-a27d-3a3505837344",
   "metadata": {},
   "source": [
    "**Comentarios de varias líneas**"
   ]
  },
  {
   "cell_type": "code",
   "execution_count": 11,
   "id": "a7989894-b647-49f7-9a7d-d7f05d914b82",
   "metadata": {},
   "outputs": [],
   "source": [
    "def producto(x, y):\n",
    "    \"\"\"\n",
    "    Esta función recibe dos números como parámetros y devuelve\n",
    "    como resultado el producto de los mismos.\n",
    "    \"\"\"\n",
    "    return x * y\n"
   ]
  },
  {
   "cell_type": "code",
   "execution_count": 12,
   "id": "044d3c1e-5fe1-47cf-9c80-019477f1376f",
   "metadata": {},
   "outputs": [
    {
     "data": {
      "text/plain": [
       "7"
      ]
     },
     "execution_count": 12,
     "metadata": {},
     "output_type": "execute_result"
    }
   ],
   "source": [
    "4+3"
   ]
  },
  {
   "cell_type": "markdown",
   "id": "3a286210-1180-47d2-8fdb-1eb0d11dec0c",
   "metadata": {},
   "source": [
    "## Literales\n",
    "#### Literales simples"
   ]
  },
  {
   "cell_type": "code",
   "execution_count": 13,
   "id": "9d117e00-fbbf-4e22-8c3c-9d997baf2844",
   "metadata": {},
   "outputs": [
    {
     "name": "stdout",
     "output_type": "stream",
     "text": [
      "4\n",
      "4.2\n",
      "Hello world!\n",
      "False\n"
     ]
    }
   ],
   "source": [
    "print(4)            # número entero\n",
    "print(4.2)          # número en coma flotante\n",
    "print('Hello world!')  # string\n",
    "print(False)"
   ]
  },
  {
   "cell_type": "markdown",
   "id": "60fb8458-c7eb-4db3-82bd-fdb510702398",
   "metadata": {},
   "source": [
    "#### Literales compuestos"
   ]
  },
  {
   "cell_type": "code",
   "execution_count": 14,
   "id": "f4bd066a-fd8e-4312-a268-ac830cfc049e",
   "metadata": {},
   "outputs": [
    {
     "name": "stdout",
     "output_type": "stream",
     "text": [
      "[1, 2, 3, 3, 6, 1]\n",
      "{'Nombre': 'John Doe', 'edad': 30}\n",
      "{1, 2, 3, 4}\n",
      "(4, 5, 6)\n"
     ]
    },
    {
     "data": {
      "text/plain": [
       "(2, 4)"
      ]
     },
     "execution_count": 14,
     "metadata": {},
     "output_type": "execute_result"
    }
   ],
   "source": [
    "print([1, 2, 3, 3, 6, 1])                         # lista - mutable\n",
    "print({'Nombre' : 'John Doe', \"edad\": 30})  # Diccionario - mutable\n",
    "print({1, 2, 3, 3, 4, 2})                         # Conjunto - mutable\n",
    "print((4, 5, 6))                               # tupla - inmutable\n",
    "2, 4 "
   ]
  },
  {
   "cell_type": "markdown",
   "id": "71aaaa32-68b6-43aa-bc8f-26ec98d198b4",
   "metadata": {},
   "source": [
    "## Variables"
   ]
  },
  {
   "cell_type": "code",
   "execution_count": 15,
   "id": "2d56274c-747e-4ead-a2d9-4aa526ec8ab9",
   "metadata": {},
   "outputs": [
    {
     "name": "stdout",
     "output_type": "stream",
     "text": [
      "5\n"
     ]
    }
   ],
   "source": [
    "#Asignación de variables\n",
    "a = 5\n",
    "print(a)"
   ]
  },
  {
   "cell_type": "code",
   "execution_count": 16,
   "id": "8339a514-1208-46a0-8ec4-074650e56f6d",
   "metadata": {},
   "outputs": [
    {
     "name": "stdout",
     "output_type": "stream",
     "text": [
      "1\n",
      "<class 'int'>\n",
      "4.0\n",
      "<class 'float'>\n",
      "VIU\n",
      "<class 'str'>\n",
      "(10+1j)\n",
      "<class 'complex'>\n",
      "True\n",
      "<class 'bool'>\n",
      "None\n",
      "<class 'NoneType'>\n"
     ]
    }
   ],
   "source": [
    "a = 1                 # entero\n",
    "b = 4.0               # coma flotante\n",
    "c = \"VIU\"             # string\n",
    "d = 10 + 1j           # numero complejo\n",
    "e = True  #False      # boolean\n",
    "f = None              # None\n",
    "\n",
    "# visualizar valor de las variables y su tipo\n",
    "print(a)\n",
    "print(type(a))\n",
    "\n",
    "print(b)\n",
    "print(type(b))\n",
    "\n",
    "print(c)\n",
    "print(type(c))\n",
    "\n",
    "print(d)\n",
    "print(type(d))\n",
    "\n",
    "print(e)\n",
    "print(type(e))\n",
    "\n",
    "print(f)\n",
    "print(type(f))"
   ]
  },
  {
   "cell_type": "code",
   "execution_count": 17,
   "id": "3549aee3-24d4-4188-9ee5-e39bfc9a7581",
   "metadata": {},
   "outputs": [
    {
     "name": "stdout",
     "output_type": "stream",
     "text": [
      "3\n",
      "<class 'int'>\n",
      "Pablo García\n",
      "<class 'str'>\n",
      "4.5\n",
      "<class 'float'>\n"
     ]
    }
   ],
   "source": [
    "a = 3\n",
    "print(a)\n",
    "print(type(a))\n",
    "\n",
    "a = 'Pablo García'\n",
    "print(a)\n",
    "print(type(a))\n",
    "\n",
    "a = 4.5\n",
    "print(a)\n",
    "print(type(a))"
   ]
  },
  {
   "cell_type": "markdown",
   "id": "6f85b0e0-bb43-4d81-94f1-537b95610f55",
   "metadata": {},
   "source": [
    "#### Identificadores"
   ]
  },
  {
   "cell_type": "code",
   "execution_count": 18,
   "id": "09afafc1-2864-485b-ba50-1d364d46d401",
   "metadata": {},
   "outputs": [
    {
     "name": "stdout",
     "output_type": "stream",
     "text": [
      "140715909690344\n",
      "1668617985344\n",
      "1668617230832\n"
     ]
    }
   ],
   "source": [
    "a = 3\n",
    "print(id(a))\n",
    "\n",
    "a = 'Pablo García'\n",
    "print(id(a))\n",
    "\n",
    "a = 4.5\n",
    "print(id(a))"
   ]
  },
  {
   "cell_type": "code",
   "execution_count": 19,
   "id": "cbf1a3cd-6bb8-4086-a266-5f1eeeb0fa63",
   "metadata": {},
   "outputs": [
    {
     "name": "stdout",
     "output_type": "stream",
     "text": [
      "1668617234032\n"
     ]
    }
   ],
   "source": [
    "a = 4567\n",
    "print(id(a))"
   ]
  },
  {
   "cell_type": "code",
   "execution_count": 20,
   "id": "33d27d33-32be-46bb-93e9-f00836b1623a",
   "metadata": {},
   "outputs": [
    {
     "name": "stdout",
     "output_type": "stream",
     "text": [
      "1668617234032\n"
     ]
    }
   ],
   "source": [
    "b = a\n",
    "print(id(b))"
   ]
  },
  {
   "cell_type": "code",
   "execution_count": 21,
   "id": "aed2f999-239b-4d77-9d10-0acc2e8e31b2",
   "metadata": {},
   "outputs": [
    {
     "name": "stdout",
     "output_type": "stream",
     "text": [
      "1668617234256\n"
     ]
    }
   ],
   "source": [
    "c = 4567\n",
    "print(id(c))"
   ]
  },
  {
   "cell_type": "code",
   "execution_count": 22,
   "id": "327a4e10-5b76-45db-a797-d8b57e77d32b",
   "metadata": {},
   "outputs": [
    {
     "name": "stdout",
     "output_type": "stream",
     "text": [
      "140715909691048\n",
      "140715909691048\n",
      "140715909691048\n",
      "140715909691048\n"
     ]
    }
   ],
   "source": [
    "a = 25\n",
    "b = 25\n",
    "c=25\n",
    "\n",
    "print(id(a))\n",
    "print(id(b))\n",
    "print(id(25))\n",
    "print(id(c))"
   ]
  },
  {
   "cell_type": "code",
   "execution_count": 23,
   "id": "0f9a18c3-afed-420f-acd6-fa4d4975e051",
   "metadata": {},
   "outputs": [
    {
     "name": "stdout",
     "output_type": "stream",
     "text": [
      "1668617236848\n",
      "1668617237872\n",
      "1668617238128\n"
     ]
    }
   ],
   "source": [
    "# Ojo con los enteros \"grandes\" [-5, 256]\n",
    "a = 258\n",
    "b = 258\n",
    "\n",
    "print(id(a))\n",
    "print(id(b))\n",
    "print(id(258))"
   ]
  },
  {
   "cell_type": "code",
   "execution_count": 24,
   "id": "9318af4f-541c-4473-8065-d5e6b70b8e1b",
   "metadata": {},
   "outputs": [
    {
     "name": "stdout",
     "output_type": "stream",
     "text": [
      "1668617237776\n",
      "1668617237776\n"
     ]
    }
   ],
   "source": [
    "a = 400\n",
    "b = a\n",
    "print(id(a))\n",
    "print(id(b))"
   ]
  },
  {
   "cell_type": "code",
   "execution_count": 25,
   "id": "8d84abf2-fc7d-4cfc-89f4-e8b4cf6fb8ba",
   "metadata": {},
   "outputs": [
    {
     "name": "stdout",
     "output_type": "stream",
     "text": [
      "8\n"
     ]
    }
   ],
   "source": [
    "a = 3\n",
    "b = 5\n",
    "c=a+b\n",
    "print (a + b)"
   ]
  },
  {
   "cell_type": "code",
   "execution_count": 26,
   "id": "0e0a8c95-083a-4a1a-adc2-8c20ff5a2515",
   "metadata": {},
   "outputs": [
    {
     "name": "stdout",
     "output_type": "stream",
     "text": [
      "8\n",
      "140715909690504\n"
     ]
    }
   ],
   "source": [
    "c = a + b\n",
    "print(c)\n",
    "print(id(c))"
   ]
  },
  {
   "cell_type": "markdown",
   "id": "378e663c-f498-44e2-8922-dcf44242554b",
   "metadata": {},
   "source": [
    "#### Respecto a los nombres de las variables ..."
   ]
  },
  {
   "cell_type": "code",
   "execution_count": 44,
   "id": "e9cf79fe-c986-4cd8-b476-9bb57076e4fe",
   "metadata": {},
   "outputs": [
    {
     "name": "stdout",
     "output_type": "stream",
     "text": [
      "6\n"
     ]
    }
   ],
   "source": [
    "print(pow(3,3))"
   ]
  },
  {
   "cell_type": "code",
   "execution_count": 45,
   "id": "63ab1e0d-9747-4d5e-9eee-64e414654266",
   "metadata": {},
   "outputs": [
    {
     "name": "stdout",
     "output_type": "stream",
     "text": [
      "5\n",
      "1\n"
     ]
    }
   ],
   "source": [
    " print(pow(3,2))\n",
    "\n",
    " pow = 1  # built-in reasignado\n",
    " print(pow)\n",
    "\n",
    " #print(pow(3,2))"
   ]
  },
  {
   "cell_type": "code",
   "execution_count": 46,
   "id": "300b719c-226d-479c-a15f-c9aa746f207c",
   "metadata": {},
   "outputs": [],
   "source": [
    "def pow(a, b):\n",
    "     return a + b"
   ]
  },
  {
   "cell_type": "markdown",
   "id": "1d1ca0b2-48ac-4f3e-94c4-0f65fe4d9cb3",
   "metadata": {},
   "source": [
    "#### Asignación múltiple de variables"
   ]
  },
  {
   "cell_type": "code",
   "execution_count": 47,
   "id": "09f3c6ff-1012-44ec-b347-61bbc4978425",
   "metadata": {},
   "outputs": [
    {
     "name": "stdout",
     "output_type": "stream",
     "text": [
      "1 2 3\n",
      "(1, 2, 3, 7, 'Python')\n",
      "<class 'tuple'>\n"
     ]
    }
   ],
   "source": [
    "x, y, z = 1, 2, 3\n",
    "print(x, y, z)\n",
    "\n",
    "t = x, y, z, 7, \"Python\"\n",
    "print(t)\n",
    "print(type(t))"
   ]
  },
  {
   "cell_type": "code",
   "execution_count": 48,
   "id": "f9669fd7-48b6-4fd7-9276-2c019a0aab3a",
   "metadata": {},
   "outputs": [
    {
     "name": "stdout",
     "output_type": "stream",
     "text": [
      "2 1\n"
     ]
    }
   ],
   "source": [
    "a = 1\n",
    "b = 2\n",
    "\n",
    "a, b = b, a\n",
    "print(a, b)"
   ]
  },
  {
   "cell_type": "code",
   "execution_count": 49,
   "id": "475119ae-101c-4fa1-b5bf-41a72bd7f80c",
   "metadata": {},
   "outputs": [
    {
     "name": "stdout",
     "output_type": "stream",
     "text": [
      "2 1\n"
     ]
    }
   ],
   "source": [
    "a = 1\n",
    "b = 2\n",
    "\n",
    "c = a\n",
    "a = b\n",
    "b = c\n",
    "print(a, b)"
   ]
  },
  {
   "cell_type": "markdown",
   "id": "ab7c43d0-fc48-43a6-ada9-f0ce8cbf3da9",
   "metadata": {},
   "source": [
    "## Tipos de datos básicos\n",
    "#### Bool"
   ]
  },
  {
   "cell_type": "code",
   "execution_count": 50,
   "id": "4c110d58-1eaa-4416-828d-9ca98ac670bc",
   "metadata": {},
   "outputs": [
    {
     "name": "stdout",
     "output_type": "stream",
     "text": [
      "False\n",
      "<class 'bool'>\n",
      "True\n",
      "<class 'bool'>\n"
     ]
    }
   ],
   "source": [
    "a = False\n",
    "b = True\n",
    "\n",
    "print(a)\n",
    "print(type(a))\n",
    "\n",
    "print(b)\n",
    "print(type(b))"
   ]
  },
  {
   "cell_type": "code",
   "execution_count": 51,
   "id": "f0009184-276e-4d24-aa9b-00fec33bd2ef",
   "metadata": {},
   "outputs": [
    {
     "name": "stdout",
     "output_type": "stream",
     "text": [
      "140715908778464\n",
      "140715908778464\n",
      "True\n",
      "True\n"
     ]
    }
   ],
   "source": [
    "a = True\n",
    "b = True\n",
    "\n",
    "print(id(a))\n",
    "print(id(b))\n",
    "\n",
    "print(a is b)\n",
    "print(a == b)"
   ]
  },
  {
   "cell_type": "markdown",
   "id": "8ec04961-8252-4aaa-b1cb-a6e46d1a628c",
   "metadata": {},
   "source": [
    "#### Números"
   ]
  },
  {
   "cell_type": "code",
   "execution_count": 52,
   "id": "e13dc5c1-343a-4219-904d-8de1480a35d9",
   "metadata": {},
   "outputs": [
    {
     "name": "stdout",
     "output_type": "stream",
     "text": [
      "2\n",
      "3.4\n",
      "(2+4j)\n",
      "0.5\n"
     ]
    }
   ],
   "source": [
    "print(2)     # Enteros, sin parte fraccional.\n",
    "print(3.4)   # Números en coma flotante, con parte fraccional.\n",
    "print(2+4j)  # Números complejos.\n",
    "print(1/2)   # Numeros racionales."
   ]
  },
  {
   "cell_type": "code",
   "execution_count": 53,
   "id": "8db5f574-67fc-41e8-94eb-7c5d785d00d6",
   "metadata": {},
   "outputs": [
    {
     "name": "stdout",
     "output_type": "stream",
     "text": [
      "True\n"
     ]
    }
   ],
   "source": [
    "x = 58          # decimal\n",
    "z = 0b00111010  # binario\n",
    "w = 0o72        # octal\n",
    "y = 0x3A        # hexadecimal\n",
    "\n",
    "print(x == y == z == w)"
   ]
  },
  {
   "cell_type": "markdown",
   "id": "ab220881-f0ef-47b7-ad67-679ace214a10",
   "metadata": {},
   "source": [
    "#### Strings"
   ]
  },
  {
   "cell_type": "code",
   "execution_count": 54,
   "id": "ac43563a-9cdb-41ee-80cd-dbb4c024667c",
   "metadata": {},
   "outputs": [
    {
     "name": "stdout",
     "output_type": "stream",
     "text": [
      "J\n",
      "e\n",
      "on\"e\n",
      "John \"ee\" Doe\n",
      "John \"ee\" Doee\n"
     ]
    }
   ],
   "source": [
    "s = 'John \"ee\" Doe'\n",
    "print(s[0])     # Primer carácter del string.\n",
    "print(s[-1])    # Último carácter del string.\n",
    "print(s[1:8:2]) # Substring desde el segundo carácter (inclusive) hasta el octavo (exclusive). Esta técnica se la conoce como 'slicing'.\n",
    "print(s[:])     # Todo el string.\n",
    "print(s + \"e\")  # Concatenación."
   ]
  },
  {
   "cell_type": "markdown",
   "id": "50c10e35-285d-468c-a043-316b0706b645",
   "metadata": {},
   "source": [
    "## Conversión entre tipos"
   ]
  },
  {
   "cell_type": "code",
   "execution_count": 55,
   "id": "aea25385-6fc5-4a46-8f5a-c02006923aaf",
   "metadata": {},
   "outputs": [
    {
     "name": "stdout",
     "output_type": "stream",
     "text": [
      "2\n",
      "<class 'int'>\n",
      "3\n",
      "<class 'int'>\n",
      "1.0\n",
      "<class 'float'>\n",
      "3.0\n",
      "<class 'float'>\n",
      "2\n",
      "<class 'str'>\n",
      "3.0\n",
      "<class 'str'>\n",
      "True\n",
      "<class 'bool'>\n",
      "False\n",
      "<class 'bool'>\n",
      "True\n",
      "<class 'bool'>\n",
      "False\n",
      "<class 'bool'>\n",
      "False\n"
     ]
    }
   ],
   "source": [
    "a = int(2.8)    # a será 2\n",
    "b = int(\"3\")    # b será 3\n",
    "c = float(1)    # c será 1.0\n",
    "d = float(\"3\")  # d será 3.0\n",
    "e = str(2)      # e será '2'\n",
    "f = str(3.0)    # f será '3.0'\n",
    "g = bool(\"a\")   # g será True\n",
    "h = bool(\"\")    # h será False\n",
    "i = bool(3)     # i será True\n",
    "j = bool(0)     # j será False\n",
    "k = bool(None)\n",
    "\n",
    "print(a)\n",
    "print(type(a))\n",
    "print(b)\n",
    "print(type(b))\n",
    "print(c)\n",
    "print(type(c))\n",
    "print(d)\n",
    "print(type(d))\n",
    "print(e)\n",
    "print(type(e))\n",
    "print(f)\n",
    "print(type(f))\n",
    "print(g)\n",
    "print(type(g))\n",
    "print(h)\n",
    "print(type(h))\n",
    "print(i)\n",
    "print(type(i))\n",
    "print(j)\n",
    "print(type(j))\n",
    "print(k)"
   ]
  },
  {
   "cell_type": "code",
   "execution_count": 56,
   "id": "c39647b1-2c2e-41b1-b1f5-e20824852037",
   "metadata": {},
   "outputs": [
    {
     "name": "stdout",
     "output_type": "stream",
     "text": [
      "1.75\n",
      "1\n",
      "1\n"
     ]
    }
   ],
   "source": [
    "print(7/4)       # División convencional. Resultado de tipo 'float'\n",
    "print(7//4)      # División entera. Resultado de tipo 'int'\n",
    "print(int(7/4))  # Divisón convencional. Conversión del resultado de 'float' a 'int'"
   ]
  },
  {
   "cell_type": "markdown",
   "id": "1a875fbc-c220-414a-a4dd-981a562d1de8",
   "metadata": {},
   "source": [
    "## Operadores"
   ]
  },
  {
   "cell_type": "code",
   "execution_count": 57,
   "id": "50e46637-e0b3-4bba-83f1-a553ee9da96a",
   "metadata": {},
   "outputs": [
    {
     "name": "stdout",
     "output_type": "stream",
     "text": [
      "x + y =  5\n",
      "x - y =  1\n",
      "x * y =  6\n",
      "x / y =  1.5\n",
      "x // y =  1\n",
      "x % y =  1\n",
      "x ** y =  9\n"
     ]
    }
   ],
   "source": [
    "x = 3\n",
    "y = 2\n",
    "\n",
    "print('x + y = ', x + y)\n",
    "print('x - y = ', x - y)\n",
    "print('x * y = ', x * y)\n",
    "print('x / y = ', x / y)\n",
    "print('x // y = ', x // y)\n",
    "print('x % y = ', x % y)\n",
    "print('x ** y = ', x ** y)"
   ]
  },
  {
   "cell_type": "markdown",
   "id": "8bf6f0f5-b6ad-4c1f-9712-890ae17d6ee9",
   "metadata": {},
   "source": [
    "#### Operadores de comparación"
   ]
  },
  {
   "cell_type": "code",
   "execution_count": 58,
   "id": "64cc5639-184e-4203-977a-1f354959ca4f",
   "metadata": {},
   "outputs": [
    {
     "name": "stdout",
     "output_type": "stream",
     "text": [
      "x > y  es  False\n",
      "x < y  es  True\n",
      "x == y es  False\n",
      "x != y es  True\n",
      "x >= y es  False\n",
      "x <= y es  True\n"
     ]
    }
   ],
   "source": [
    "x = 10\n",
    "y = 12\n",
    "print('x > y  es ', x > y)\n",
    "print('x < y  es ', x < y)\n",
    "print('x == y es ', x == y)\n",
    "print('x != y es ', x != y)\n",
    "print('x >= y es ', x >= y)\n",
    "print('x <= y es ', x <= y)"
   ]
  },
  {
   "cell_type": "markdown",
   "id": "ab3affc2-5fd8-4421-bc75-bcaf323d2537",
   "metadata": {},
   "source": [
    "#### Operadores Lógicos"
   ]
  },
  {
   "cell_type": "code",
   "execution_count": 59,
   "id": "19134001-bc4f-49e0-b400-e048fa9b5dda",
   "metadata": {},
   "outputs": [
    {
     "name": "stdout",
     "output_type": "stream",
     "text": [
      "x and y es : False\n",
      "x or y es  : True\n",
      "x xor y es  : True\n",
      "not x es   : False\n"
     ]
    }
   ],
   "source": [
    "x = True\n",
    "y = False\n",
    "\n",
    "print('x and y es :', x and y)\n",
    "print('x or y es  :', x or y)\n",
    "print('x xor y es  :', x ^ y)\n",
    "print('not x es   :', not x)"
   ]
  },
  {
   "cell_type": "markdown",
   "id": "0b05d08c-e5a8-445b-88b9-d8dbf19bf55c",
   "metadata": {},
   "source": [
    "#### Operadores Bitwise / Binarios"
   ]
  },
  {
   "cell_type": "code",
   "execution_count": 60,
   "id": "749d671e-1c66-446d-9a9c-ddc3431313f0",
   "metadata": {},
   "outputs": [
    {
     "name": "stdout",
     "output_type": "stream",
     "text": [
      "Not x = -0b1100111\n",
      "x and y = 0b100010\n",
      "x or y = 0b1110111\n",
      "x xor y = 0b1010101\n",
      "x << 2 = 0b110011000\n",
      "x >> 2 = 0b11001\n"
     ]
    }
   ],
   "source": [
    "x = 0b01100110\n",
    "y = 0b00110011\n",
    "print(\"Not x = \" + bin(~x))\n",
    "print(\"x and y = \" + bin(x & y))\n",
    "print(\"x or y = \" + bin(x | y))\n",
    "print(\"x xor y = \" + bin(x ^ y))\n",
    "print(\"x << 2 = \" + bin(x << 2))\n",
    "print(\"x >> 2 = \" + bin(x >> 2))"
   ]
  },
  {
   "cell_type": "markdown",
   "id": "97ffc72a-be7f-4df4-ba08-f53dfbfb89a3",
   "metadata": {},
   "source": [
    "#### Operadores de Asignación"
   ]
  },
  {
   "cell_type": "code",
   "execution_count": 61,
   "id": "1c124293-b72f-4175-a50f-e7a1670a3439",
   "metadata": {},
   "outputs": [
    {
     "name": "stdout",
     "output_type": "stream",
     "text": [
      "16\n",
      "4\n"
     ]
    }
   ],
   "source": [
    "a = 5\n",
    "a *= 3   # a = a * 3\n",
    "a += 1   # No existe a++, ni ++a\n",
    "print(a)\n",
    "\n",
    "b = 6\n",
    "b -= 2   # b = b - 2\n",
    "print(b)"
   ]
  },
  {
   "cell_type": "markdown",
   "id": "5bad1d22-f536-4d70-bc96-d0732da69414",
   "metadata": {},
   "source": [
    "#### Operadores de Identidad\n"
   ]
  },
  {
   "cell_type": "code",
   "execution_count": 62,
   "id": "343355e5-3bf4-4cc6-873b-004899e8d6fd",
   "metadata": {},
   "outputs": [
    {
     "name": "stdout",
     "output_type": "stream",
     "text": [
      "True\n",
      "False\n"
     ]
    }
   ],
   "source": [
    "a = 4444\n",
    "b = a\n",
    "print(a is b)\n",
    "print(a is not b)"
   ]
  },
  {
   "cell_type": "code",
   "execution_count": 63,
   "id": "61f520b4-13c4-4900-ab3a-a4013632e33c",
   "metadata": {},
   "outputs": [],
   "source": [
    "#### Operadores de Pertenencia"
   ]
  },
  {
   "cell_type": "code",
   "execution_count": 64,
   "id": "6e45ba80-ecef-4ab5-a070-0a9f63193327",
   "metadata": {},
   "outputs": [
    {
     "name": "stdout",
     "output_type": "stream",
     "text": [
      "True\n",
      "True\n",
      "True\n",
      "False\n"
     ]
    }
   ],
   "source": [
    "x = 'Hola Mundo'\n",
    "y = {1:'a',2:'b'}\n",
    "\n",
    "print('H' in x)         # True\n",
    "print('hola' not in x)  # True\n",
    "\n",
    "print(1 in y)           # True\n",
    "print('a' in y)         # False"
   ]
  },
  {
   "cell_type": "markdown",
   "id": "bdbf5288-f87f-421e-83e7-eab8e8adacc8",
   "metadata": {},
   "source": [
    "## Entrada de valores"
   ]
  },
  {
   "cell_type": "code",
   "execution_count": 66,
   "id": "0e7e1537-1b1e-4f2d-9287-d7367cb851af",
   "metadata": {},
   "outputs": [
    {
     "name": "stdin",
     "output_type": "stream",
     "text": [
      "Inserte valor: 23\n"
     ]
    },
    {
     "name": "stdout",
     "output_type": "stream",
     "text": [
      "23\n"
     ]
    }
   ],
   "source": [
    "valor = input(\"Inserte valor:\")\n",
    "print(valor)"
   ]
  },
  {
   "cell_type": "code",
   "execution_count": 68,
   "id": "3687187e-a289-44e5-bd46-775762e3c112",
   "metadata": {},
   "outputs": [
    {
     "name": "stdin",
     "output_type": "stream",
     "text": [
      "Conversión de grados a fahrenheit, inserte un valor:  12\n"
     ]
    },
    {
     "name": "stdout",
     "output_type": "stream",
     "text": [
      "Grados F: 53.6\n"
     ]
    }
   ],
   "source": [
    "grados_c = input(\"Conversión de grados a fahrenheit, inserte un valor: \")\n",
    "print(f\"Grados F: {1.8 * int(grados_c) + 32}\")"
   ]
  },
  {
   "cell_type": "markdown",
   "id": "31171baf-7256-4b5f-a4f2-56dda17d210d",
   "metadata": {},
   "source": [
    "# Tipos de datos compuestos (colecciones)"
   ]
  },
  {
   "cell_type": "markdown",
   "id": "3b417317-b635-40cb-a087-bfef419c99d8",
   "metadata": {},
   "source": [
    "#### Operaciones con listas"
   ]
  },
  {
   "cell_type": "code",
   "execution_count": 71,
   "id": "2c2c1e1d-6554-4a47-ac8d-8b43f614b15a",
   "metadata": {},
   "outputs": [
    {
     "name": "stdout",
     "output_type": "stream",
     "text": [
      "['a', 'b', 'c', 'd']\n",
      "['Hola', 'mundo']\n",
      "[0, 1, 2, 3, 4]\n",
      "<class 'list'>\n"
     ]
    }
   ],
   "source": [
    "letras = ['a', 'b', 'c', 'd']\n",
    "#LA función split divide cadena de textos en sublistas\n",
    "palabras = 'Hola mundo'.split()\n",
    "numeros = list(range(5))\n",
    "\n",
    "print(letras)\n",
    "print(palabras)\n",
    "print(numeros)\n",
    "print(type(numeros))"
   ]
  },
  {
   "cell_type": "code",
   "execution_count": 72,
   "id": "5af13a7a-edb9-4129-9738-0bbfc119965d",
   "metadata": {},
   "outputs": [
    {
     "name": "stdout",
     "output_type": "stream",
     "text": [
      "[1, 3.4, 'a', None, False]\n",
      "5\n"
     ]
    }
   ],
   "source": [
    "# # Pueden contener elementos arbitrarios / heterogeneos\n",
    "mezcla = [1, 3.4, 'a', None, False]\n",
    "print(mezcla)\n",
    "print(len(mezcla))"
   ]
  },
  {
   "cell_type": "code",
   "execution_count": 73,
   "id": "97707e3e-22ba-40d0-a8d1-4b95908d0c5d",
   "metadata": {},
   "outputs": [
    {
     "name": "stdout",
     "output_type": "stream",
     "text": [
      "[1, 2, <built-in function len>]\n"
     ]
    }
   ],
   "source": [
    "# # # Pueden incluso contener objetos más \"complejos\"\n",
    "lista_con_funcion = [1, 2, len]\n",
    "print(lista_con_funcion)"
   ]
  },
  {
   "cell_type": "code",
   "execution_count": 74,
   "id": "b2747931-8bf5-4ed6-83e8-cc03380ec01f",
   "metadata": {},
   "outputs": [
    {
     "name": "stdout",
     "output_type": "stream",
     "text": [
      "[1, 2, 3, 3, 3, 4]\n"
     ]
    }
   ],
   "source": [
    "#Pueden contener duplicados\n",
    "lista_con_duplicados = [1, 2, 3, 3, 3, 4]\n",
    "print(lista_con_duplicados)"
   ]
  },
  {
   "cell_type": "code",
   "execution_count": 75,
   "id": "9ad68559-b511-4bde-afaf-d1f9492d80c7",
   "metadata": {},
   "outputs": [
    {
     "name": "stdout",
     "output_type": "stream",
     "text": [
      "c\n",
      "d\n"
     ]
    }
   ],
   "source": [
    "print(letras[2])\n",
    "print(letras[-1])"
   ]
  },
  {
   "cell_type": "code",
   "execution_count": 76,
   "id": "224ab180-8716-427f-9862-0ac6cec852a0",
   "metadata": {},
   "outputs": [
    {
     "name": "stdout",
     "output_type": "stream",
     "text": [
      "['b', 'c']\n",
      "['a']\n",
      "['a', 'b', 'c']\n",
      "['c', 'd']\n",
      "['a', 'b', 'c', 'd']\n",
      "['a', 'c']\n"
     ]
    }
   ],
   "source": [
    "letras = ['a', 'b', 'c', 'd']\n",
    "\n",
    "print(letras[1:3])\n",
    "print(letras[:1])\n",
    "# #Toma todos los elementos desde el inicio de la lista hasta el penúltimo (sin incluir el último)\n",
    "print(letras[:-1])\n",
    "print(letras[2:])\n",
    "print(letras[:])\n",
    "print(letras[::2])"
   ]
  },
  {
   "cell_type": "code",
   "execution_count": 77,
   "id": "e58c014f-95cc-4bd3-af2e-ce200d53b081",
   "metadata": {},
   "outputs": [
    {
     "name": "stdout",
     "output_type": "stream",
     "text": [
      "['a', 'b', 'c', 'd']\n",
      "1668635085056\n",
      "['a', 'b', 'c', 'd']\n",
      "1668635087104\n",
      "['a', 'b', 'c', 'd']\n",
      "1668635084736\n"
     ]
    }
   ],
   "source": [
    "letras = ['a', 'b', 'c', 'd']\n",
    "\n",
    "print(letras)\n",
    "print(id(letras))\n",
    "\n",
    "a = letras[:]\n",
    "print(a)\n",
    "print(id(a))\n",
    "\n",
    "print(letras.copy())\n",
    "print(id(letras.copy()))"
   ]
  },
  {
   "cell_type": "code",
   "execution_count": 78,
   "id": "d924adb8-bb9b-4928-9031-5c95538673b2",
   "metadata": {},
   "outputs": [
    {
     "name": "stdout",
     "output_type": "stream",
     "text": [
      "['a', 'b', 'c', 'd', 'e']\n",
      "1668635085056\n"
     ]
    }
   ],
   "source": [
    "letras.append('e')\n",
    "print(letras)\n",
    "print(id(letras))"
   ]
  },
  {
   "cell_type": "code",
   "execution_count": 79,
   "id": "3ed19e18-9d77-4786-a064-ef8f7fb52633",
   "metadata": {},
   "outputs": [
    {
     "name": "stdout",
     "output_type": "stream",
     "text": [
      "['a', 'b', 'c', 'd', 'e', 'e']\n",
      "1668635085056\n"
     ]
    }
   ],
   "source": [
    "letras += 'e'\n",
    "print(letras)\n",
    "print(id(letras))"
   ]
  },
  {
   "cell_type": "code",
   "execution_count": 80,
   "id": "813d7855-2320-4065-a625-cf6ccc27b009",
   "metadata": {},
   "outputs": [
    {
     "name": "stdout",
     "output_type": "stream",
     "text": [
      "['a', 'g', 'b', 'c', 'd', 'e', 'e']\n",
      "1668635085056\n"
     ]
    }
   ],
   "source": [
    "letras.insert(1,'g')\n",
    "print(letras)\n",
    "print(id(letras))"
   ]
  },
  {
   "cell_type": "code",
   "execution_count": 85,
   "id": "c0485ee5-d648-4614-bc06-679065413655",
   "metadata": {},
   "outputs": [
    {
     "name": "stdout",
     "output_type": "stream",
     "text": [
      "['a', 'g', 'b', 'c', 'd', 'f', 'e']\n",
      "1668635085056\n"
     ]
    }
   ],
   "source": [
    "letras[5] = 'f'\n",
    "print(letras)\n",
    "print(id(letras))"
   ]
  },
  {
   "cell_type": "code",
   "execution_count": 94,
   "id": "0ff28486-6ec0-4bd1-9333-0d3a01680212",
   "metadata": {},
   "outputs": [],
   "source": [
    "#index tiene que estar en rango\n",
    "letras[3] = 'r'"
   ]
  },
  {
   "cell_type": "code",
   "execution_count": 87,
   "id": "af34464d-cacb-413b-959b-207037c982b2",
   "metadata": {},
   "outputs": [
    {
     "name": "stdout",
     "output_type": "stream",
     "text": [
      "1668635770944\n"
     ]
    }
   ],
   "source": [
    "letras = ['a', 'b', 'c', 'f', 'g', 'h', 'i', 'j', 'k']\n",
    "print(id(letras))"
   ]
  },
  {
   "cell_type": "code",
   "execution_count": 88,
   "id": "338a63fb-f776-4db0-b9d6-c4c5b3253114",
   "metadata": {},
   "outputs": [
    {
     "name": "stdout",
     "output_type": "stream",
     "text": [
      "['z', 'b', 'z', 'f', 'z', 'h', 'i', 'j', 'k']\n",
      "1668635770944\n"
     ]
    }
   ],
   "source": [
    "letras[0:6:2] = ['z', 'z', 'z']\n",
    "print(letras)\n",
    "print(id(letras))"
   ]
  },
  {
   "cell_type": "code",
   "execution_count": 89,
   "id": "a6858fee-319b-4305-9552-6bb6a137b3b2",
   "metadata": {},
   "outputs": [
    {
     "name": "stdout",
     "output_type": "stream",
     "text": [
      "[1, [10, 20, 30], 3]\n",
      "30\n",
      "[1, [10, 20, [100, 200]], 3]\n",
      "200\n"
     ]
    }
   ],
   "source": [
    "# Ojo con la diferencia entre modificación individual y múltiple. Asignación individual de lista crea anidamiento.\n",
    "numeros = [1, 2, 3]\n",
    "numeros[1] = [10, 20, 30]\n",
    "\n",
    "print(numeros)\n",
    "print(numeros[1][2])\n",
    "\n",
    "numeros[1][2] = [100, 200]\n",
    "print(numeros)\n",
    "\n",
    "print(numeros[1][2][1])"
   ]
  },
  {
   "cell_type": "code",
   "execution_count": 90,
   "id": "fe136223-7e90-4867-b7f7-9089ddd99490",
   "metadata": {},
   "outputs": [
    {
     "name": "stdout",
     "output_type": "stream",
     "text": [
      "['b', 'z', 'f', 'z', 'h', 'i', 'j', 'k']\n"
     ]
    }
   ],
   "source": [
    "# # letras.remove('f')\n",
    "if 'z' in letras:\n",
    "     letras.remove('z')\n",
    "# # letras.remove('z')\n",
    "print(letras)"
   ]
  },
  {
   "cell_type": "code",
   "execution_count": 95,
   "id": "eebceacb-3dbc-48d6-b357-0727b7191e28",
   "metadata": {},
   "outputs": [
    {
     "name": "stdout",
     "output_type": "stream",
     "text": [
      "k\n",
      "['b', 'z', 'f', 'r', 'h', 'i', 'j']\n"
     ]
    }
   ],
   "source": [
    "#elimina el elemento en posición -1 y lo devuelve\n",
    "elemento = letras.pop()\n",
    "print(elemento)\n",
    "print(letras)"
   ]
  },
  {
   "cell_type": "code",
   "execution_count": 96,
   "id": "ececd9c7-3c93-428a-9af1-e382b44d440c",
   "metadata": {},
   "outputs": [
    {
     "name": "stdout",
     "output_type": "stream",
     "text": [
      "[1, 2, [10, 20, 30]]\n",
      "[1, 2, [10, 20]]\n",
      "30\n"
     ]
    }
   ],
   "source": [
    "numeros = [1, 2, 3]\n",
    "numeros[2] = [10, 20, 30]\n",
    "print(numeros)\n",
    "\n",
    "n = numeros[2].pop()\n",
    "print(numeros)\n",
    "print(n)"
   ]
  },
  {
   "cell_type": "code",
   "execution_count": 97,
   "id": "4264c1df-4a67-4cc6-8613-d08c304a3ba1",
   "metadata": {},
   "outputs": [
    {
     "ename": "IndexError",
     "evalue": "pop from empty list",
     "output_type": "error",
     "traceback": [
      "\u001b[31m---------------------------------------------------------------------------\u001b[39m",
      "\u001b[31mIndexError\u001b[39m                                Traceback (most recent call last)",
      "\u001b[36mCell\u001b[39m\u001b[36m \u001b[39m\u001b[32mIn[97]\u001b[39m\u001b[32m, line 2\u001b[39m\n\u001b[32m      1\u001b[39m lista = []\n\u001b[32m----> \u001b[39m\u001b[32m2\u001b[39m a = lista.pop()\n",
      "\u001b[31mIndexError\u001b[39m: pop from empty list"
     ]
    }
   ],
   "source": [
    "lista = []\n",
    "a = lista.pop()"
   ]
  },
  {
   "cell_type": "code",
   "execution_count": 101,
   "id": "eeae3597-57f8-4651-898e-372b51ace034",
   "metadata": {},
   "outputs": [],
   "source": [
    "letras = ['a', 'b', 'c', 'c']\n",
    "\n",
    "if 'd' in letras:\n",
    "    print(letras.index('d'))"
   ]
  },
  {
   "cell_type": "code",
   "execution_count": 102,
   "id": "469571e5-f151-4e46-a36c-2b0bc7bdb048",
   "metadata": {},
   "outputs": [
    {
     "name": "stdout",
     "output_type": "stream",
     "text": [
      "1668636230080\n",
      "1668636226944\n",
      "1668636218496\n",
      "['queso', 'leche', 'naranja', 'manzana']\n"
     ]
    }
   ],
   "source": [
    "lacteos = ['queso', 'leche']\n",
    "frutas = ['naranja', 'manzana']\n",
    "print(id(lacteos))\n",
    "print(id(frutas))\n",
    "\n",
    "compra = lacteos + frutas\n",
    "print(id(compra))\n",
    "print(compra)"
   ]
  },
  {
   "cell_type": "code",
   "execution_count": 104,
   "id": "d97e3388-d29a-40f8-a83e-9e71abb2108e",
   "metadata": {},
   "outputs": [
    {
     "name": "stdout",
     "output_type": "stream",
     "text": [
      "1668636219968\n",
      "['naranja', 'manzana', 'pera', 'uvas']\n",
      "1668636219968\n"
     ]
    }
   ],
   "source": [
    "#Concatenación sin crear una nueva lista\n",
    "frutas = ['naranja', 'manzana']\n",
    "print(id(frutas))\n",
    "frutas.extend(['pera', 'uvas'])\n",
    "print(frutas)\n",
    "print(id(frutas))"
   ]
  },
  {
   "cell_type": "code",
   "execution_count": 105,
   "id": "f4f56ab2-12d2-4c73-9715-2f50422dc950",
   "metadata": {},
   "outputs": [
    {
     "name": "stdout",
     "output_type": "stream",
     "text": [
      "1668634884416\n",
      "['naranja', 'manzana', ['pera', 'uvas']]\n",
      "1668634884416\n"
     ]
    }
   ],
   "source": [
    "# Anidar sin crear una nueva lista\n",
    "frutas = ['naranja', 'manzana']\n",
    "print(id(frutas))\n",
    "frutas.append(['pera', 'uvas'])\n",
    "print(frutas)\n",
    "print(id(frutas))"
   ]
  },
  {
   "cell_type": "code",
   "execution_count": 106,
   "id": "f0494cb4-7041-431e-8f02-812d6b2109df",
   "metadata": {},
   "outputs": [
    {
     "name": "stdout",
     "output_type": "stream",
     "text": [
      "['queso', 'leche', 'queso', 'leche', 'queso', 'leche']\n",
      "1668636228928\n",
      "['queso', 'leche', 'queso', 'leche', 'queso', 'leche']\n",
      "1668636219008\n"
     ]
    }
   ],
   "source": [
    "lacteos = ['queso', 'leche']\n",
    "print(lacteos * 3)\n",
    "print(id(lacteos))\n",
    "\n",
    "a = 3 * lacteos\n",
    "print(a)\n",
    "print(id(a))"
   ]
  },
  {
   "cell_type": "code",
   "execution_count": 107,
   "id": "14137ba2-cac2-4261-be35-c57a8f465cfb",
   "metadata": {},
   "outputs": [
    {
     "name": "stdout",
     "output_type": "stream",
     "text": [
      "['naranja', 'manzana', ['pera', 'uvas']]\n",
      "id frutas = 1668634884416\n",
      "id frutas2 = 1668636219968\n"
     ]
    }
   ],
   "source": [
    "frutas2 = frutas.copy()\n",
    "frutas2 = frutas[:]\n",
    "print(frutas2)\n",
    "print('id frutas = ' + str(id(frutas)))\n",
    "print('id frutas2 = ' + str(id(frutas2)))"
   ]
  },
  {
   "cell_type": "code",
   "execution_count": 108,
   "id": "af0ed35d-77fb-4634-8947-72df0c0cc6bf",
   "metadata": {},
   "outputs": [
    {
     "name": "stdout",
     "output_type": "stream",
     "text": [
      "[1, 3, 4, 8]\n",
      "[8, 4, 3, 1]\n"
     ]
    }
   ],
   "source": [
    "lista = [4,3,8,1]\n",
    "lista.sort()\n",
    "print(lista)\n",
    "\n",
    "lista.sort(reverse=True)\n",
    "print(lista)"
   ]
  },
  {
   "cell_type": "code",
   "execution_count": 109,
   "id": "1b89bedf-d2b8-407d-99ae-7b39fa3f20f7",
   "metadata": {},
   "outputs": [
    {
     "ename": "TypeError",
     "evalue": "'<' not supported between instances of 'str' and 'int'",
     "output_type": "error",
     "traceback": [
      "\u001b[31m---------------------------------------------------------------------------\u001b[39m",
      "\u001b[31mTypeError\u001b[39m                                 Traceback (most recent call last)",
      "\u001b[36mCell\u001b[39m\u001b[36m \u001b[39m\u001b[32mIn[109]\u001b[39m\u001b[32m, line 3\u001b[39m\n\u001b[32m      1\u001b[39m \u001b[38;5;66;03m# # Los elementos deben ser comparables para poderse ordenar\u001b[39;00m\n\u001b[32m      2\u001b[39m lista = [\u001b[32m1\u001b[39m, \u001b[33m'\u001b[39m\u001b[33ma\u001b[39m\u001b[33m'\u001b[39m]\n\u001b[32m----> \u001b[39m\u001b[32m3\u001b[39m lista.sort()\n",
      "\u001b[31mTypeError\u001b[39m: '<' not supported between instances of 'str' and 'int'"
     ]
    }
   ],
   "source": [
    "# # Los elementos deben ser comparables para poderse ordenar\n",
    "lista = [1, 'a']\n",
    "lista.sort()"
   ]
  },
  {
   "cell_type": "code",
   "execution_count": 110,
   "id": "279931b7-a2ad-4bf4-ae05-98d2f5896503",
   "metadata": {},
   "outputs": [
    {
     "name": "stdout",
     "output_type": "stream",
     "text": [
      "['Huevos', 'Leche', 'Pan']\n",
      "['Huevos', 'Pan', 'Leche']\n"
     ]
    }
   ],
   "source": [
    "compra = ['Huevos','Pan','Leche']\n",
    "print(sorted(compra))\n",
    "print(compra)"
   ]
  },
  {
   "cell_type": "code",
   "execution_count": 111,
   "id": "0fd3e6d2-c674-4a98-bebd-81ed8fac9b7c",
   "metadata": {},
   "outputs": [
    {
     "name": "stdout",
     "output_type": "stream",
     "text": [
      "True\n",
      "False\n"
     ]
    }
   ],
   "source": [
    "lista = [1, 2, 3, 4]\n",
    "print(1 in lista)\n",
    "print(5 in lista)"
   ]
  },
  {
   "cell_type": "code",
   "execution_count": 112,
   "id": "d984de59-8ca5-4d88-b935-483aec7b83dc",
   "metadata": {},
   "outputs": [
    {
     "name": "stdout",
     "output_type": "stream",
     "text": [
      "a\n",
      "x\n",
      "i\n"
     ]
    }
   ],
   "source": [
    "letras = ['a', 'b', 'c', ['x', 'y', ['i', 'j', 'k']]]\n",
    "print(letras[0])\n",
    "print(letras[3][0])\n",
    "print(letras[3][2][0])"
   ]
  },
  {
   "cell_type": "code",
   "execution_count": null,
   "id": "7f8972ba-3739-495e-b43d-8faff1e89280",
   "metadata": {},
   "outputs": [],
   "source": []
  }
 ],
 "metadata": {
  "kernelspec": {
   "display_name": "Python 3 (ipykernel)",
   "language": "python",
   "name": "python3"
  },
  "language_info": {
   "codemirror_mode": {
    "name": "ipython",
    "version": 3
   },
   "file_extension": ".py",
   "mimetype": "text/x-python",
   "name": "python",
   "nbconvert_exporter": "python",
   "pygments_lexer": "ipython3",
   "version": "3.13.5"
  }
 },
 "nbformat": 4,
 "nbformat_minor": 5
}
