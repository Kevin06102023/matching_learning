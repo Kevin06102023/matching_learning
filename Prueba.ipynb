{
 "cells": [
  {
   "cell_type": "markdown",
   "id": "06048a8a-0f37-4a3c-b90e-b821a4798ae0",
   "metadata": {},
   "source": [
    "<img src=\"img/Logo_itq.png\" width=\"200\"/>\n",
    "\n",
    "# Prueba Primer Parcial\n",
    "<img src=\"img/python_logo.png\"/> <br>\n",
    "**Nombre:** Kevin Jaramillo<br>\n",
    "*Fecha:* 29/06/2025<br>\n",
    "<a href = \"https://github.com/Kevin06102023/matching_learning/blob/master/Ejerciciosdeber.ipynb\">Enlace del deber</a>"
   ]
  },
  {
   "cell_type": "markdown",
   "id": "cc23fb63-cec4-4603-9694-da14661bed63",
   "metadata": {},
   "source": [
    "Desarrollar un programa en Python que reciba un conjunto de registros de estudiantes (nombre y lista de notas), e implemente estructuras de control para:\n",
    "* Validar que las notas estén entre 0 y 10 (inclusive)\n",
    "* Calcular el promedio individual\n",
    "* Clasificar al estudiante con base en el promedio usando match o if-elif\n",
    "* Usar control de errores (try/except) para gestionar entradas defectuosas\n",
    "* Al final, mostrar un resumen con:\n",
    "* La cantidad de estudiantes aprobados, reprobados y con calificación excelente\n",
    "* El estudiante con el promedio más alto\n",
    "* Una lista de estudiantes ordenados por calificación (usando list comprehension con condiciones)"
   ]
  },
  {
   "cell_type": "code",
   "execution_count": 4,
   "id": "ef01f811-e09f-4554-9584-b2cd87222d26",
   "metadata": {},
   "outputs": [
    {
     "name": "stdout",
     "output_type": "stream",
     "text": [
      "Ingrese datos del estudiante (escriba 'FIN' para finalizar):\n"
     ]
    },
    {
     "name": "stdin",
     "output_type": "stream",
     "text": [
      "Nombre del estudiante:  Kevin Jaramillo\n",
      "Ingrese las notas separadas por coma:  9, 8, 5, 10\n"
     ]
    },
    {
     "name": "stdout",
     "output_type": "stream",
     "text": [
      "Kevin Jaramillo registrado con promedio 8.0 - Aprobado\n"
     ]
    },
    {
     "name": "stdin",
     "output_type": "stream",
     "text": [
      "Nombre del estudiante:  José Villalba\n",
      "Ingrese las notas separadas por coma:  10, 10, 10, 9.5\n"
     ]
    },
    {
     "name": "stdout",
     "output_type": "stream",
     "text": [
      "José Villalba registrado con promedio 9.88 - Excelente\n"
     ]
    },
    {
     "name": "stdin",
     "output_type": "stream",
     "text": [
      "Nombre del estudiante:  Jonathan Sanchez\n",
      "Ingrese las notas separadas por coma:  7.75, 8 , 7, 8.25\n"
     ]
    },
    {
     "name": "stdout",
     "output_type": "stream",
     "text": [
      "Jonathan Sanchez registrado con promedio 7.75 - Aprobado\n"
     ]
    },
    {
     "name": "stdin",
     "output_type": "stream",
     "text": [
      "Nombre del estudiante:  Andres Ipiales\n",
      "Ingrese las notas separadas por coma:  Ocho, nueve, diez, tres\n"
     ]
    },
    {
     "name": "stdout",
     "output_type": "stream",
     "text": [
      "Error en las notas. Estudiante omitido.\n"
     ]
    },
    {
     "name": "stdin",
     "output_type": "stream",
     "text": [
      "Nombre del estudiante:  Luis Lopez\n",
      "Ingrese las notas separadas por coma:  12, 80, 90, 65\n"
     ]
    },
    {
     "name": "stdout",
     "output_type": "stream",
     "text": [
      "Error en las notas. Estudiante omitido.\n"
     ]
    },
    {
     "name": "stdin",
     "output_type": "stream",
     "text": [
      "Nombre del estudiante:  FIN\n"
     ]
    },
    {
     "name": "stdout",
     "output_type": "stream",
     "text": [
      "\n",
      "Resumen:\n",
      "Excelentes: 1\n",
      "Aprobados: 2\n",
      "Reprobados: 0\n",
      "Mejor estudiante: José Villalba con promedio 9.88\n",
      "\n",
      "Estudiantes ordenados por calificación (todos):\n",
      "José Villalba - Promedio: 9.88 - Excelente\n",
      "Kevin Jaramillo - Promedio: 8.0 - Aprobado\n",
      "Jonathan Sanchez - Promedio: 7.75 - Aprobado\n"
     ]
    }
   ],
   "source": [
    "estudiantes = []\n",
    "excelentes = 0\n",
    "aprobados = 0\n",
    "reprobados = 0\n",
    "\n",
    "print(\"Ingrese datos del estudiante (escriba 'FIN' para finalizar):\")\n",
    "\n",
    "nombre = input(\"Nombre del estudiante: \")\n",
    "\n",
    "while nombre != \"FIN\":\n",
    "    notas_str = input(\"Ingrese las notas separadas por coma: \")\n",
    "    try:\n",
    "        notas = []\n",
    "        for n_str in notas_str.split(\",\"):\n",
    "            nota = float(n_str.strip())\n",
    "            if nota < 0 or nota > 10:\n",
    "                raise ValueError(\"Nota fuera de rango\")\n",
    "            notas.append(nota)\n",
    "\n",
    "        suma = 0\n",
    "        for n in notas:\n",
    "            suma = suma + n\n",
    "\n",
    "        promedio = suma / len(notas)\n",
    "\n",
    "        if promedio >= 9:\n",
    "            clasificacion = \"Excelente\"\n",
    "            excelentes += 1\n",
    "        elif promedio >= 6:\n",
    "            clasificacion = \"Aprobado\"\n",
    "            aprobados += 1\n",
    "        else:\n",
    "            clasificacion = \"Reprobado\"\n",
    "            reprobados += 1\n",
    "\n",
    "        estudiantes.append([nombre, promedio, clasificacion])\n",
    "        print(nombre + \" registrado con promedio \" + str(round(promedio, 2)) + \" - \" + clasificacion)\n",
    "\n",
    "    except:\n",
    "        print(\"Error en las notas. Estudiante omitido.\")\n",
    "\n",
    "    nombre = input(\"Nombre del estudiante: \")\n",
    "print()\n",
    "print(\"Resumen:\")\n",
    "print(\"Excelentes:\", excelentes)\n",
    "print(\"Aprobados:\", aprobados)\n",
    "print(\"Reprobados:\", reprobados)\n",
    "\n",
    "if len(estudiantes) > 0:\n",
    "    mejor_estudiante = estudiantes[0][0]\n",
    "    mejor_promedio = estudiantes[0][1]\n",
    "\n",
    "    i = 1\n",
    "    while i < len(estudiantes):\n",
    "        if estudiantes[i][1] > mejor_promedio:\n",
    "            mejor_promedio = estudiantes[i][1]\n",
    "            mejor_estudiante = estudiantes[i][0]\n",
    "        i += 1\n",
    "\n",
    "    print(\"Mejor estudiante: \" + mejor_estudiante + \" con promedio \" + str(round(mejor_promedio, 2)))\n",
    "\n",
    "    # Ordenar todos los estudiantes por promedio de mayor a menor\n",
    "    ordenados = [est for est in sorted(estudiantes, key=lambda x: x[1], reverse=True)]\n",
    "\n",
    "    print(\"\\nEstudiantes ordenados por calificación (todos):\")\n",
    "    for est in ordenados:\n",
    "        print(est[0] + \" - Promedio: \" + str(round(est[1], 2)) + \" - \" + est[2])\n",
    "else:\n",
    "    print(\"No se registraron estudiantes.\")"
   ]
  },
  {
   "cell_type": "code",
   "execution_count": null,
   "id": "e60925b2-1b12-4f29-87aa-d90bcdad71e6",
   "metadata": {},
   "outputs": [],
   "source": []
  }
 ],
 "metadata": {
  "kernelspec": {
   "display_name": "Python 3 (ipykernel)",
   "language": "python",
   "name": "python3"
  },
  "language_info": {
   "codemirror_mode": {
    "name": "ipython",
    "version": 3
   },
   "file_extension": ".py",
   "mimetype": "text/x-python",
   "name": "python",
   "nbconvert_exporter": "python",
   "pygments_lexer": "ipython3",
   "version": "3.13.5"
  }
 },
 "nbformat": 4,
 "nbformat_minor": 5
}
